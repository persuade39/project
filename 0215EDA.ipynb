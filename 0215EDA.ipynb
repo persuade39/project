{
 "cells": [
  {
   "cell_type": "markdown",
   "metadata": {},
   "source": [
    "# 1. 데이터 불러오기"
   ]
  },
  {
   "cell_type": "code",
   "execution_count": 1,
   "metadata": {},
   "outputs": [],
   "source": [
    "# 필요한 라이브러리 불러오기\n",
    "import pandas as pd\n",
    "import numpy as np\n",
    "from sklearn.model_selection import train_test_split\n",
    "from sklearn.metrics import accuracy_score, confusion_matrix, precision_score, recall_score, f1_score\n",
    "from xgboost import XGBClassifier\n",
    "import matplotlib.pyplot as plt\n",
    "import seaborn as sns\n",
    "import re\n",
    "from sklearn.preprocessing import LabelEncoder\n",
    "import warnings\n",
    "warnings.filterwarnings(action='ignore')\n",
    "\n",
    "plt.rcParams['font.family'] = 'Malgun Gothic'\n",
    "plt.rcParams['axes.unicode_minus'] = False"
   ]
  },
  {
   "cell_type": "code",
   "execution_count": 2,
   "metadata": {},
   "outputs": [],
   "source": [
    "df = pd.read_csv('C:/Users/w7e7r/Desktop/스파르타/심화프로젝트/train.csv')"
   ]
  },
  {
   "cell_type": "markdown",
   "metadata": {},
   "source": [
    "# 2. 결측치, 이상치"
   ]
  },
  {
   "cell_type": "markdown",
   "metadata": {},
   "source": [
    "## 결측치"
   ]
  },
  {
   "cell_type": "markdown",
   "metadata": {},
   "source": [
    "### 주택소유상태"
   ]
  },
  {
   "cell_type": "code",
   "execution_count": 3,
   "metadata": {},
   "outputs": [],
   "source": [
    "df = df.drop(index=df[df['주택소유상태'] == 'ANY'].index)"
   ]
  },
  {
   "cell_type": "code",
   "execution_count": 4,
   "metadata": {},
   "outputs": [],
   "source": [
    "df['대출기간'] = df['대출기간'].str.strip()\n",
    "df['대출기간'] = df['대출기간'].str.split(' ', expand=True)[0]\n",
    "df['대출기간'] = df['대출기간'].astype(int)"
   ]
  },
  {
   "cell_type": "code",
   "execution_count": 5,
   "metadata": {},
   "outputs": [
    {
     "data": {
      "text/plain": [
       "array([36, 60])"
      ]
     },
     "execution_count": 5,
     "metadata": {},
     "output_type": "execute_result"
    }
   ],
   "source": [
    "df['대출기간'].unique()"
   ]
  },
  {
   "cell_type": "markdown",
   "metadata": {},
   "source": [
    "### 근로기간"
   ]
  },
  {
   "cell_type": "code",
   "execution_count": 6,
   "metadata": {},
   "outputs": [],
   "source": [
    "df_un = df[df['근로기간'] == 'Unknown']\n",
    "df_n = df[df['근로기간'] != 'Unknown']"
   ]
  },
  {
   "cell_type": "code",
   "execution_count": 7,
   "metadata": {},
   "outputs": [],
   "source": [
    "def year_encoder(value):\n",
    "    if value == 'Unknown':\n",
    "        return 0\n",
    "    else:\n",
    "        # 숫자만 추출\n",
    "        numeric_value = re.findall('\\d+', value)\n",
    "        if numeric_value:\n",
    "            return int(numeric_value[0])\n",
    "        else:\n",
    "            return 0\n",
    "\n",
    "# 근로기간 데이터 변환\n",
    "df_n['근로기간'] = df_n['근로기간'].apply(year_encoder)\n",
    "df_un['근로기간'] = df_un['근로기간'].apply(year_encoder)"
   ]
  },
  {
   "cell_type": "code",
   "execution_count": 8,
   "metadata": {},
   "outputs": [
    {
     "data": {
      "text/plain": [
       "[1, 2, 3, 4, 5, 6, 7, 8, 9, 10]"
      ]
     },
     "execution_count": 8,
     "metadata": {},
     "output_type": "execute_result"
    }
   ],
   "source": [
    "work_year = list(df_n['근로기간'].unique())\n",
    "work_year = sorted(work_year)\n",
    "work_year"
   ]
  },
  {
   "cell_type": "code",
   "execution_count": 9,
   "metadata": {},
   "outputs": [],
   "source": [
    "numeric_col = ['대출기간', '대출금액', '연간소득', '부채_대비_소득_비율', '총계좌수', '최근_2년간_연체_횟수', '총상환원금', '총상환이자', '총연체금액', '연체계좌수', '근로기간']\n",
    "category_col = [ '주택소유상태', '대출목적']"
   ]
  },
  {
   "cell_type": "code",
   "execution_count": 10,
   "metadata": {},
   "outputs": [],
   "source": [
    "un_income = df_un['연간소득'].mean()\n",
    "un_debt_ratio = df_un['부채_대비_소득_비율'].mean()\n",
    "\n",
    "un_feature = [un_income, un_debt_ratio]"
   ]
  },
  {
   "cell_type": "code",
   "execution_count": 11,
   "metadata": {},
   "outputs": [
    {
     "name": "stdout",
     "output_type": "stream",
     "text": [
      "1년 SSE : 5.058911843133164e+18\n",
      "2년 SSE : 3.9800660898169257e+18\n",
      "3년 SSE : 3.509893447324445e+18\n",
      "4년 SSE : 3.076168296497903e+18\n",
      "5년 SSE : 2.8975755873341117e+18\n",
      "6년 SSE : 2.452916189007704e+18\n",
      "7년 SSE : 2.4747846840073313e+18\n",
      "8년 SSE : 2.6315088981716347e+18\n",
      "9년 SSE : 2.401889700675149e+18\n",
      "10년 SSE : 1.1998514256355176e+19\n"
     ]
    }
   ],
   "source": [
    "un_feature = ['연간소득', '부채_대비_소득_비율']\n",
    "\n",
    "sses = []\n",
    "\n",
    "for year in work_year:\n",
    "    sse_list = []\n",
    "    \n",
    "    temp = df_n[df_n['근로기간'] == year]\n",
    "    \n",
    "    for col in un_feature:\n",
    "        feature = temp[col]\n",
    "        data = (feature.value_counts() / feature.value_counts().values.sum()).sort_index()\n",
    "        \n",
    "        error = data - df_un[col].mean()  \n",
    "        \n",
    "        se = error ** 2\n",
    "        \n",
    "        sse_list.append(se.values.sum())\n",
    "    \n",
    "    print(f'{year}년 SSE : {sum(sse_list)}')\n"
   ]
  },
  {
   "cell_type": "markdown",
   "metadata": {},
   "source": [
    "- 5년"
   ]
  },
  {
   "cell_type": "code",
   "execution_count": 12,
   "metadata": {},
   "outputs": [
    {
     "name": "stdout",
     "output_type": "stream",
     "text": [
      "unknown average income: 60371758.02151296\n",
      "unknwon debt ratio: 22.716878857344383\n"
     ]
    }
   ],
   "source": [
    "print('unknown average income:', un_income)\n",
    "print('unknwon debt ratio:', un_debt_ratio)"
   ]
  },
  {
   "cell_type": "code",
   "execution_count": 13,
   "metadata": {},
   "outputs": [
    {
     "name": "stdout",
     "output_type": "stream",
     "text": [
      "1 year error in average income: 87926613.47774932\n",
      "1 year error in debt to income ratio: 18.6887161741297\n",
      "2 year error in average income: 90848452.21349113\n",
      "2 year error in debt to income ratio: 18.61789822485207\n",
      "3 year error in average income: 92266220.33585398\n",
      "3 year error in debt to income ratio: 18.83573272490222\n",
      "4 year error in average income: 92732040.60987832\n",
      "4 year error in debt to income ratio: 18.773478883321403\n",
      "5 year error in average income: 94352701.37687555\n",
      "5 year error in debt to income ratio: 18.94184112974404\n",
      "6 year error in average income: 93841795.36912751\n",
      "6 year error in debt to income ratio: 19.345937016004132\n",
      "7 year error in average income: 95928259.36234924\n",
      "7 year error in debt to income ratio: 19.470608285264813\n",
      "8 year error in average income: 95570175.70703764\n",
      "8 year error in debt to income ratio: 19.43097790507365\n",
      "9 year error in average income: 96307501.69551282\n",
      "9 year error in debt to income ratio: 19.617873931623933\n",
      "10 year error in average income: 103032164.99889162\n",
      "10 year error in debt to income ratio: 19.56963669950739\n"
     ]
    }
   ],
   "source": [
    "for year in work_year:\n",
    "    temp = df_n[df_n['근로기간'] == year]\n",
    "    \n",
    "    error_income = temp['연간소득'].mean() \n",
    "    error_debt_ratio = temp['부채_대비_소득_비율'].mean()\n",
    "    \n",
    "    print(f'{year} year error in average income: {error_income}')\n",
    "    print(f'{year} year error in debt to income ratio: {error_debt_ratio}')"
   ]
  },
  {
   "cell_type": "code",
   "execution_count": 14,
   "metadata": {},
   "outputs": [
    {
     "name": "stdout",
     "output_type": "stream",
     "text": [
      "1 year error in average income: 27554855.456236355\n",
      "1 year error in debt to income ratio: -4.028162683214685\n",
      "2 year error in average income: 30476694.191978164\n",
      "2 year error in debt to income ratio: -4.098980632492314\n",
      "3 year error in average income: 31894462.314341016\n",
      "3 year error in debt to income ratio: -3.881146132442165\n",
      "4 year error in average income: 32360282.588365354\n",
      "4 year error in debt to income ratio: -3.943399974022981\n",
      "5 year error in average income: 33980943.35536259\n",
      "5 year error in debt to income ratio: -3.775037727600342\n",
      "6 year error in average income: 33470037.34761455\n",
      "6 year error in debt to income ratio: -3.370941841340251\n",
      "7 year error in average income: 35556501.34083628\n",
      "7 year error in debt to income ratio: -3.2462705720795704\n",
      "8 year error in average income: 35198417.68552468\n",
      "8 year error in debt to income ratio: -3.285900952270733\n",
      "9 year error in average income: 35935743.67399985\n",
      "9 year error in debt to income ratio: -3.0990049257204504\n",
      "10 year error in average income: 42660406.97737866\n",
      "10 year error in debt to income ratio: -3.147242157836992\n"
     ]
    }
   ],
   "source": [
    "for year in work_year:\n",
    "    temp = df_n[df_n['근로기간'] == year]\n",
    "    \n",
    "    error_income = temp['연간소득'].mean() - un_income\n",
    "    error_debt_ratio = temp['부채_대비_소득_비율'].mean() - un_debt_ratio\n",
    "    \n",
    "    print(f'{year} year error in average income: {error_income}')\n",
    "    print(f'{year} year error in debt to income ratio: {error_debt_ratio}')"
   ]
  },
  {
   "cell_type": "markdown",
   "metadata": {},
   "source": [
    "- 7년"
   ]
  },
  {
   "cell_type": "code",
   "execution_count": 15,
   "metadata": {},
   "outputs": [
    {
     "name": "stdout",
     "output_type": "stream",
     "text": [
      "1년 평균 소득 비율: 2.19\n",
      "1년 평균 부채 대비 소득 비율 비율: -5.64\n",
      "2년 평균 소득 비율: 1.98\n",
      "2년 평균 부채 대비 소득 비율 비율: -5.54\n",
      "3년 평균 소득 비율: 1.89\n",
      "3년 평균 부채 대비 소득 비율 비율: -5.85\n",
      "4년 평균 소득 비율: 1.87\n",
      "4년 평균 부채 대비 소득 비율 비율: -5.76\n",
      "5년 평균 소득 비율: 1.78\n",
      "5년 평균 부채 대비 소득 비율 비율: -6.02\n",
      "6년 평균 소득 비율: 1.80\n",
      "6년 평균 부채 대비 소득 비율 비율: -6.74\n",
      "7년 평균 소득 비율: 1.70\n",
      "7년 평균 부채 대비 소득 비율 비율: -7.00\n",
      "8년 평균 소득 비율: 1.72\n",
      "8년 평균 부채 대비 소득 비율 비율: -6.91\n",
      "9년 평균 소득 비율: 1.68\n",
      "9년 평균 부채 대비 소득 비율 비율: -7.33\n",
      "10년 평균 소득 비율: 1.42\n",
      "10년 평균 부채 대비 소득 비율 비율: -7.22\n"
     ]
    }
   ],
   "source": [
    "for year in work_year:\n",
    "    temp = df_n[df_n['근로기간'] == year]\n",
    "    \n",
    "    error_income = temp['연간소득'].mean() - un_income\n",
    "    income_ratio = un_income / error_income \n",
    "    \n",
    "    error_debt_ratio = temp['부채_대비_소득_비율'].mean() - un_debt_ratio\n",
    "    debt_ratio = un_debt_ratio / error_debt_ratio\n",
    "    \n",
    "    print(f'{year}년 평균 소득 비율: {income_ratio:.2f}')\n",
    "    print(f'{year}년 평균 부채 대비 소득 비율 비율: {debt_ratio:.2f}')"
   ]
  },
  {
   "cell_type": "code",
   "execution_count": 16,
   "metadata": {},
   "outputs": [],
   "source": [
    "df_simple = pd.concat([df_n, df_un], axis=0).reset_index(drop=True)"
   ]
  }
 ],
 "metadata": {
  "kernelspec": {
   "display_name": "Python 3",
   "language": "python",
   "name": "python3"
  },
  "language_info": {
   "codemirror_mode": {
    "name": "ipython",
    "version": 3
   },
   "file_extension": ".py",
   "mimetype": "text/x-python",
   "name": "python",
   "nbconvert_exporter": "python",
   "pygments_lexer": "ipython3",
   "version": "3.8.6"
  }
 },
 "nbformat": 4,
 "nbformat_minor": 2
}
