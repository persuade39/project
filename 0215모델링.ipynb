{
 "cells": [
  {
   "cell_type": "code",
   "execution_count": 1,
   "metadata": {},
   "outputs": [],
   "source": [
    "import pandas as pd\n",
    "import numpy as np\n",
    "import matplotlib.pyplot as plt\n",
    "import seaborn as sns\n",
    "\n",
    "import warnings\n",
    "warnings.filterwarnings(action='ignore')\n",
    "\n",
    "plt.rcParams['font.family'] = 'Malgun Gothic'\n",
    "plt.rcParams['axes.unicode_minus'] = False"
   ]
  },
  {
   "cell_type": "code",
   "execution_count": 2,
   "metadata": {},
   "outputs": [],
   "source": [
    "df = pd.read_csv('train.csv')"
   ]
  },
  {
   "cell_type": "code",
   "execution_count": 3,
   "metadata": {},
   "outputs": [
    {
     "data": {
      "text/html": [
       "<div>\n",
       "<style scoped>\n",
       "    .dataframe tbody tr th:only-of-type {\n",
       "        vertical-align: middle;\n",
       "    }\n",
       "\n",
       "    .dataframe tbody tr th {\n",
       "        vertical-align: top;\n",
       "    }\n",
       "\n",
       "    .dataframe thead th {\n",
       "        text-align: right;\n",
       "    }\n",
       "</style>\n",
       "<table border=\"1\" class=\"dataframe\">\n",
       "  <thead>\n",
       "    <tr style=\"text-align: right;\">\n",
       "      <th></th>\n",
       "      <th>ID</th>\n",
       "      <th>대출금액</th>\n",
       "      <th>대출기간</th>\n",
       "      <th>근로기간</th>\n",
       "      <th>주택소유상태</th>\n",
       "      <th>연간소득</th>\n",
       "      <th>부채_대비_소득_비율</th>\n",
       "      <th>총계좌수</th>\n",
       "      <th>대출목적</th>\n",
       "      <th>최근_2년간_연체_횟수</th>\n",
       "      <th>총상환원금</th>\n",
       "      <th>총상환이자</th>\n",
       "      <th>총연체금액</th>\n",
       "      <th>연체계좌수</th>\n",
       "      <th>대출등급</th>\n",
       "    </tr>\n",
       "  </thead>\n",
       "  <tbody>\n",
       "    <tr>\n",
       "      <th>0</th>\n",
       "      <td>TRAIN_00000</td>\n",
       "      <td>12480000</td>\n",
       "      <td>36 months</td>\n",
       "      <td>6 years</td>\n",
       "      <td>RENT</td>\n",
       "      <td>72000000</td>\n",
       "      <td>18.90</td>\n",
       "      <td>15</td>\n",
       "      <td>부채 통합</td>\n",
       "      <td>0</td>\n",
       "      <td>0</td>\n",
       "      <td>0.0</td>\n",
       "      <td>0.0</td>\n",
       "      <td>0.0</td>\n",
       "      <td>C</td>\n",
       "    </tr>\n",
       "    <tr>\n",
       "      <th>1</th>\n",
       "      <td>TRAIN_00001</td>\n",
       "      <td>14400000</td>\n",
       "      <td>60 months</td>\n",
       "      <td>10+ years</td>\n",
       "      <td>MORTGAGE</td>\n",
       "      <td>130800000</td>\n",
       "      <td>22.33</td>\n",
       "      <td>21</td>\n",
       "      <td>주택 개선</td>\n",
       "      <td>0</td>\n",
       "      <td>373572</td>\n",
       "      <td>234060.0</td>\n",
       "      <td>0.0</td>\n",
       "      <td>0.0</td>\n",
       "      <td>B</td>\n",
       "    </tr>\n",
       "    <tr>\n",
       "      <th>2</th>\n",
       "      <td>TRAIN_00002</td>\n",
       "      <td>12000000</td>\n",
       "      <td>36 months</td>\n",
       "      <td>5 years</td>\n",
       "      <td>MORTGAGE</td>\n",
       "      <td>96000000</td>\n",
       "      <td>8.60</td>\n",
       "      <td>14</td>\n",
       "      <td>부채 통합</td>\n",
       "      <td>0</td>\n",
       "      <td>928644</td>\n",
       "      <td>151944.0</td>\n",
       "      <td>0.0</td>\n",
       "      <td>0.0</td>\n",
       "      <td>A</td>\n",
       "    </tr>\n",
       "    <tr>\n",
       "      <th>3</th>\n",
       "      <td>TRAIN_00003</td>\n",
       "      <td>14400000</td>\n",
       "      <td>36 months</td>\n",
       "      <td>8 years</td>\n",
       "      <td>MORTGAGE</td>\n",
       "      <td>132000000</td>\n",
       "      <td>15.09</td>\n",
       "      <td>15</td>\n",
       "      <td>부채 통합</td>\n",
       "      <td>0</td>\n",
       "      <td>325824</td>\n",
       "      <td>153108.0</td>\n",
       "      <td>0.0</td>\n",
       "      <td>0.0</td>\n",
       "      <td>C</td>\n",
       "    </tr>\n",
       "    <tr>\n",
       "      <th>4</th>\n",
       "      <td>TRAIN_00004</td>\n",
       "      <td>18000000</td>\n",
       "      <td>60 months</td>\n",
       "      <td>Unknown</td>\n",
       "      <td>RENT</td>\n",
       "      <td>71736000</td>\n",
       "      <td>25.39</td>\n",
       "      <td>19</td>\n",
       "      <td>주요 구매</td>\n",
       "      <td>0</td>\n",
       "      <td>228540</td>\n",
       "      <td>148956.0</td>\n",
       "      <td>0.0</td>\n",
       "      <td>0.0</td>\n",
       "      <td>B</td>\n",
       "    </tr>\n",
       "  </tbody>\n",
       "</table>\n",
       "</div>"
      ],
      "text/plain": [
       "            ID      대출금액        대출기간       근로기간    주택소유상태       연간소득  \\\n",
       "0  TRAIN_00000  12480000   36 months    6 years      RENT   72000000   \n",
       "1  TRAIN_00001  14400000   60 months  10+ years  MORTGAGE  130800000   \n",
       "2  TRAIN_00002  12000000   36 months    5 years  MORTGAGE   96000000   \n",
       "3  TRAIN_00003  14400000   36 months    8 years  MORTGAGE  132000000   \n",
       "4  TRAIN_00004  18000000   60 months    Unknown      RENT   71736000   \n",
       "\n",
       "   부채_대비_소득_비율  총계좌수   대출목적  최근_2년간_연체_횟수   총상환원금     총상환이자  총연체금액  연체계좌수 대출등급  \n",
       "0        18.90    15  부채 통합             0       0       0.0    0.0    0.0    C  \n",
       "1        22.33    21  주택 개선             0  373572  234060.0    0.0    0.0    B  \n",
       "2         8.60    14  부채 통합             0  928644  151944.0    0.0    0.0    A  \n",
       "3        15.09    15  부채 통합             0  325824  153108.0    0.0    0.0    C  \n",
       "4        25.39    19  주요 구매             0  228540  148956.0    0.0    0.0    B  "
      ]
     },
     "execution_count": 3,
     "metadata": {},
     "output_type": "execute_result"
    }
   ],
   "source": [
    "df.head(5)"
   ]
  },
  {
   "cell_type": "markdown",
   "metadata": {},
   "source": [
    "# 1. 결측치 제거"
   ]
  },
  {
   "cell_type": "markdown",
   "metadata": {},
   "source": [
    "## 주택소유상태"
   ]
  },
  {
   "cell_type": "code",
   "execution_count": 4,
   "metadata": {},
   "outputs": [],
   "source": [
    "df = df.drop(index=df[df['주택소유상태'] == 'ANY'].index)\n"
   ]
  },
  {
   "cell_type": "markdown",
   "metadata": {},
   "source": [
    "## ID\n",
    "미리 ID 제거"
   ]
  },
  {
   "cell_type": "markdown",
   "metadata": {},
   "source": [
    "### 이상치"
   ]
  },
  {
   "cell_type": "code",
   "execution_count": 5,
   "metadata": {},
   "outputs": [],
   "source": [
    "numeric_col = ['대출금액', '연간소득', '부채_대비_소득_비율', '총계좌수', '최근_2년간_연체_횟수', '총상환원금', '총상환이자', '총연체금액', '연체계좌수', '근로기간']\n",
    "category_col = ['대출기간', '주택소유상태', '대출목적']\n"
   ]
  },
  {
   "cell_type": "code",
   "execution_count": 6,
   "metadata": {},
   "outputs": [
    {
     "name": "stdout",
     "output_type": "stream",
     "text": [
      "이상치 제거 후 데이터프레임 크기:\n",
      "                ID      대출금액        대출기간       근로기간    주택소유상태       연간소득  \\\n",
      "0      TRAIN_00000  12480000   36 months    6 years      RENT   72000000   \n",
      "1      TRAIN_00001  14400000   60 months  10+ years  MORTGAGE  130800000   \n",
      "2      TRAIN_00002  12000000   36 months    5 years  MORTGAGE   96000000   \n",
      "3      TRAIN_00003  14400000   36 months    8 years  MORTGAGE  132000000   \n",
      "4      TRAIN_00004  18000000   60 months    Unknown      RENT   71736000   \n",
      "...            ...       ...         ...        ...       ...        ...   \n",
      "96289  TRAIN_96289  14400000   36 months  10+ years  MORTGAGE  210000000   \n",
      "96290  TRAIN_96290  28800000   60 months  10+ years  MORTGAGE  132000000   \n",
      "96291  TRAIN_96291  14400000   36 months     1 year  MORTGAGE   84000000   \n",
      "96292  TRAIN_96292  15600000   36 months    5 years  MORTGAGE   66330000   \n",
      "96293  TRAIN_96293   8640000   36 months  10+ years      RENT   50400000   \n",
      "\n",
      "       부채_대비_소득_비율  총계좌수   대출목적  최근_2년간_연체_횟수    총상환원금     총상환이자  총연체금액  \\\n",
      "0            18.90    15  부채 통합             0        0       0.0    0.0   \n",
      "1            22.33    21  주택 개선             0   373572  234060.0    0.0   \n",
      "2             8.60    14  부채 통합             0   928644  151944.0    0.0   \n",
      "3            15.09    15  부채 통합             0   325824  153108.0    0.0   \n",
      "4            25.39    19  주요 구매             0   228540  148956.0    0.0   \n",
      "...            ...   ...    ...           ...      ...       ...    ...   \n",
      "96289         9.33    33  신용 카드             0   974580  492168.0    0.0   \n",
      "96290         5.16    25  주택 개선             0   583728  855084.0    0.0   \n",
      "96291        11.24    22  신용 카드             0  1489128  241236.0    0.0   \n",
      "96292        17.30    21  부채 통합             2  1378368  818076.0    0.0   \n",
      "96293        11.80    14  신용 카드             0   596148  274956.0    0.0   \n",
      "\n",
      "       연체계좌수 대출등급  \n",
      "0        0.0    C  \n",
      "1        0.0    B  \n",
      "2        0.0    A  \n",
      "3        0.0    C  \n",
      "4        0.0    B  \n",
      "...      ...  ...  \n",
      "96289    0.0    C  \n",
      "96290    0.0    E  \n",
      "96291    0.0    A  \n",
      "96292    0.0    D  \n",
      "96293    0.0    C  \n",
      "\n",
      "[90618 rows x 15 columns]\n"
     ]
    }
   ],
   "source": [
    "import numpy as np\n",
    "\n",
    "numeric_cols = ['연간소득', '총계좌수', '최근_2년간_연체_횟수', '총상환원금', '총상환이자', '총연체금액','부채_대비_소득_비율']\n",
    "\n",
    "# 표준편차 사용하여 이상치 제거\n",
    "def remove_outliers(df, col, threshold=3):\n",
    "    mean = np.mean(df[col])\n",
    "    std_dev = np.std(df[col])\n",
    "    lower_bound = mean - threshold * std_dev\n",
    "    upper_bound = mean + threshold * std_dev\n",
    "    df= df[(df[col] >= lower_bound) & (df[col] <= upper_bound)]\n",
    "    return df\n",
    "\n",
    "# 이상치 제거 후 데이터프레임 생성\n",
    "df = df.copy()  # 복사본 생성\n",
    "\n",
    "for col in numeric_cols:\n",
    "    df = remove_outliers(df, col, threshold=3)\n",
    "\n",
    "# 이상치 제거 후 데이터프레임 크기 확인\n",
    "print(\"이상치 제거 후 데이터프레임 크기:\")\n",
    "print(df)"
   ]
  },
  {
   "cell_type": "markdown",
   "metadata": {},
   "source": [
    "# 회귀모델"
   ]
  },
  {
   "cell_type": "code",
   "execution_count": 7,
   "metadata": {},
   "outputs": [],
   "source": [
    "def year_encoder(x):\n",
    "    output = x.replace('years', '')\n",
    "    output = output.replace('year', '')\n",
    "    output = output.replace('+', '')\n",
    "    output = output.replace('<', '')\n",
    "    output = output.replace('Unknown', '-1').strip()\n",
    "    output = int(output)\n",
    "\n",
    "    return output"
   ]
  },
  {
   "cell_type": "code",
   "execution_count": 8,
   "metadata": {},
   "outputs": [],
   "source": [
    "df['근로기간'] = df['근로기간'].apply(year_encoder)"
   ]
  },
  {
   "cell_type": "code",
   "execution_count": 9,
   "metadata": {},
   "outputs": [
    {
     "name": "stdout",
     "output_type": "stream",
     "text": [
      "                ID      대출금액        대출기간       근로기간    주택소유상태       연간소득  \\\n",
      "0      TRAIN_00000  12480000   36 months   6.000000      RENT   72000000   \n",
      "1      TRAIN_00001  14400000   60 months  10.000000  MORTGAGE  130800000   \n",
      "2      TRAIN_00002  12000000   36 months   5.000000  MORTGAGE   96000000   \n",
      "3      TRAIN_00003  14400000   36 months   8.000000  MORTGAGE  132000000   \n",
      "4      TRAIN_00004  18000000   60 months   5.946278      RENT   71736000   \n",
      "...            ...       ...         ...        ...       ...        ...   \n",
      "96289  TRAIN_96289  14400000   36 months  10.000000  MORTGAGE  210000000   \n",
      "96290  TRAIN_96290  28800000   60 months  10.000000  MORTGAGE  132000000   \n",
      "96291  TRAIN_96291  14400000   36 months   1.000000  MORTGAGE   84000000   \n",
      "96292  TRAIN_96292  15600000   36 months   5.000000  MORTGAGE   66330000   \n",
      "96293  TRAIN_96293   8640000   36 months  10.000000      RENT   50400000   \n",
      "\n",
      "       부채_대비_소득_비율  총계좌수   대출목적  최근_2년간_연체_횟수    총상환원금     총상환이자  총연체금액  \\\n",
      "0            18.90    15  부채 통합             0        0       0.0    0.0   \n",
      "1            22.33    21  주택 개선             0   373572  234060.0    0.0   \n",
      "2             8.60    14  부채 통합             0   928644  151944.0    0.0   \n",
      "3            15.09    15  부채 통합             0   325824  153108.0    0.0   \n",
      "4            25.39    19  주요 구매             0   228540  148956.0    0.0   \n",
      "...            ...   ...    ...           ...      ...       ...    ...   \n",
      "96289         9.33    33  신용 카드             0   974580  492168.0    0.0   \n",
      "96290         5.16    25  주택 개선             0   583728  855084.0    0.0   \n",
      "96291        11.24    22  신용 카드             0  1489128  241236.0    0.0   \n",
      "96292        17.30    21  부채 통합             2  1378368  818076.0    0.0   \n",
      "96293        11.80    14  신용 카드             0   596148  274956.0    0.0   \n",
      "\n",
      "       연체계좌수 대출등급  \n",
      "0        0.0    C  \n",
      "1        0.0    B  \n",
      "2        0.0    A  \n",
      "3        0.0    C  \n",
      "4        0.0    B  \n",
      "...      ...  ...  \n",
      "96289    0.0    C  \n",
      "96290    0.0    E  \n",
      "96291    0.0    A  \n",
      "96292    0.0    D  \n",
      "96293    0.0    C  \n",
      "\n",
      "[90618 rows x 15 columns]\n"
     ]
    }
   ],
   "source": [
    "from sklearn.model_selection import train_test_split\n",
    "from sklearn.linear_model import LinearRegression\n",
    "from sklearn.metrics import mean_squared_error\n",
    "\n",
    "df_known = df[df['근로기간'] != -1]\n",
    "\n",
    "X_train = df_known[['연간소득']]\n",
    "y_train = df_known['근로기간']\n",
    "\n",
    "regressor = LinearRegression()\n",
    "regressor.fit(X_train, y_train)\n",
    "\n",
    "X_pred = df[df['근로기간'] == -1][['연간소득']]\n",
    "predicted_years = regressor.predict(X_pred)\n",
    "\n",
    "df.loc[df['근로기간'] == -1, '근로기간'] = predicted_years\n",
    "\n",
    "print(df)"
   ]
  },
  {
   "cell_type": "markdown",
   "metadata": {},
   "source": [
    "# 스케일링"
   ]
  },
  {
   "cell_type": "code",
   "execution_count": 12,
   "metadata": {},
   "outputs": [
    {
     "name": "stdout",
     "output_type": "stream",
     "text": [
      "(90618, 13) (90618, 1)\n"
     ]
    }
   ],
   "source": [
    "from sklearn.model_selection import train_test_split\n",
    "\n",
    "X = df.drop(['ID', '대출등급'], axis=1)\n",
    "y = df[['대출등급']]\n",
    "\n",
    "print(X.shape, y.shape)"
   ]
  },
  {
   "cell_type": "code",
   "execution_count": 13,
   "metadata": {},
   "outputs": [],
   "source": [
    "def numeric_scaler(X):\n",
    "    \n",
    "    sc_col = ['최근_2년간_연체_횟수', '총연체금액', '연체계좌수']\n",
    "    mm_col = ['대출금액', '연간소득', '부채_대비_소득_비율', '총계좌수', '총상환원금', '총상환이자', '근로기간']\n",
    "    \n",
    "    from sklearn.preprocessing import StandardScaler, MinMaxScaler\n",
    "    \n",
    "    sc = StandardScaler()\n",
    "    mm = MinMaxScaler()\n",
    "    \n",
    "    X[sc_col] = sc.fit_transform(X[sc_col])\n",
    "    X[mm_col] = mm.fit_transform(X[mm_col])\n",
    "    \n",
    "    return X\n",
    "\n",
    "X = numeric_scaler(X)"
   ]
  },
  {
   "cell_type": "markdown",
   "metadata": {},
   "source": [
    "# 인코딩"
   ]
  },
  {
   "cell_type": "code",
   "execution_count": 14,
   "metadata": {},
   "outputs": [],
   "source": [
    "category_col = ['대출기간', '주택소유상태','대출목적']"
   ]
  },
  {
   "cell_type": "code",
   "execution_count": 15,
   "metadata": {},
   "outputs": [],
   "source": [
    "def category_encoder(X:pd.DataFrame):\n",
    "     X_dummies = pd.get_dummies(X[category_col])\n",
    "     \n",
    "     X = pd.concat([X, X_dummies], axis=1)\n",
    "     \n",
    "     return X, X_dummies.columns.to_list()\n",
    "\n",
    "X, dummies_col = category_encoder(X)"
   ]
  },
  {
   "cell_type": "code",
   "execution_count": 16,
   "metadata": {},
   "outputs": [],
   "source": [
    "from sklearn.preprocessing import LabelEncoder\n",
    "\n",
    "le = LabelEncoder()\n",
    "le.fit(y['대출등급'])\n",
    "\n",
    "\n",
    "y['대출등급'] = le.transform(y['대출등급'])"
   ]
  },
  {
   "cell_type": "code",
   "execution_count": 18,
   "metadata": {},
   "outputs": [
    {
     "name": "stdout",
     "output_type": "stream",
     "text": [
      "대출기간\n"
     ]
    },
    {
     "data": {
      "text/plain": [
       " 36 months    0.950595\n",
       " 60 months    0.049405\n",
       "Name: 대출기간, dtype: float64"
      ]
     },
     "metadata": {},
     "output_type": "display_data"
    },
    {
     "name": "stdout",
     "output_type": "stream",
     "text": [
      "----------------------------------\n",
      "주택소유상태\n"
     ]
    },
    {
     "data": {
      "text/plain": [
       "MORTGAGE    0.572403\n",
       "RENT        0.316948\n",
       "OWN         0.110650\n",
       "Name: 주택소유상태, dtype: float64"
      ]
     },
     "metadata": {},
     "output_type": "display_data"
    },
    {
     "name": "stdout",
     "output_type": "stream",
     "text": [
      "----------------------------------\n",
      "대출목적\n"
     ]
    },
    {
     "data": {
      "text/plain": [
       "부채 통합     0.479172\n",
       "신용 카드     0.384081\n",
       "주택 개선     0.072279\n",
       "주요 구매     0.022006\n",
       "기타        0.021076\n",
       "자동차       0.010166\n",
       "의료        0.006323\n",
       "휴가        0.002480\n",
       "소규모 사업    0.001116\n",
       "이사        0.000744\n",
       "주택        0.000496\n",
       "재생 에너지    0.000062\n",
       "Name: 대출목적, dtype: float64"
      ]
     },
     "metadata": {},
     "output_type": "display_data"
    },
    {
     "name": "stdout",
     "output_type": "stream",
     "text": [
      "----------------------------------\n"
     ]
    }
   ],
   "source": [
    "## 예시\n",
    "\n",
    "for col in category_col:\n",
    "    print(col)\n",
    "    display(df[df['대출등급'] == \"A\"][col].value_counts() / df[df['대출등급'] == \"A\"][col].value_counts().sum())\n",
    "    print('----------------------------------')\n"
   ]
  },
  {
   "cell_type": "code",
   "execution_count": 19,
   "metadata": {},
   "outputs": [],
   "source": [
    "X = df.drop(['ID', '대출등급'], axis=1)\n",
    "y = df[['대출등급']]"
   ]
  },
  {
   "cell_type": "code",
   "execution_count": 20,
   "metadata": {},
   "outputs": [
    {
     "data": {
      "text/plain": [
       "대출등급\n",
       "B       27674\n",
       "C       26357\n",
       "A       16132\n",
       "D       12287\n",
       "E        6389\n",
       "F        1493\n",
       "G         286\n",
       "dtype: int64"
      ]
     },
     "execution_count": 20,
     "metadata": {},
     "output_type": "execute_result"
    }
   ],
   "source": [
    "y.value_counts()"
   ]
  },
  {
   "cell_type": "code",
   "execution_count": 21,
   "metadata": {},
   "outputs": [],
   "source": [
    "X, dummies_col = category_encoder(X)\n",
    "X = X.drop(columns=category_col)"
   ]
  },
  {
   "cell_type": "code",
   "execution_count": 22,
   "metadata": {},
   "outputs": [],
   "source": [
    "from sklearn.preprocessing import LabelEncoder\n",
    "\n",
    "le = LabelEncoder()\n",
    "le.fit(y['대출등급'])\n",
    "\n",
    "\n",
    "y['대출등급'] = le.transform(y['대출등급'])"
   ]
  },
  {
   "cell_type": "code",
   "execution_count": 23,
   "metadata": {},
   "outputs": [],
   "source": [
    "from imblearn.over_sampling import SMOTE\n",
    "sm = SMOTE(random_state=42)\n",
    "\n",
    "X, y = sm.fit_resample(X, y)"
   ]
  },
  {
   "cell_type": "code",
   "execution_count": 24,
   "metadata": {},
   "outputs": [
    {
     "data": {
      "text/plain": [
       "대출등급\n",
       "0       27674\n",
       "1       27674\n",
       "2       27674\n",
       "3       27674\n",
       "4       27674\n",
       "5       27674\n",
       "6       27674\n",
       "dtype: int64"
      ]
     },
     "execution_count": 24,
     "metadata": {},
     "output_type": "execute_result"
    }
   ],
   "source": [
    "y.value_counts()"
   ]
  },
  {
   "cell_type": "markdown",
   "metadata": {},
   "source": [
    "# 파생변수"
   ]
  },
  {
   "cell_type": "code",
   "execution_count": 25,
   "metadata": {},
   "outputs": [],
   "source": [
    "X['dv_category'] = ((2 * X['대출기간_ 36 months']) + X['주택소유상태_MORTGAGE'] + X['대출목적_부채 통합']) / 4  # 대출 등급별 category_col 분포 특성을 반영\n",
    "X['dv_ratio'] = (X['총상환원금'] / X['대출금액']) * 100                                                     # 대출금액 대비 총상환원금(0인 값 처리를 위해 +1)\n",
    "X['dv_short_ability'] = (X['연간소득'] / 12) - (X['대출금액'] / 36)                                           # 단기상환능력                                   \n",
    "X['dv_left_debt'] = X['대출금액'] - X['총상환원금'] - X['총상환이자']                                          # 잔여대출금\n",
    "X['dv_rent_p'] = (X['총상환원금'] / X['대출금액']) * 100                                                      # 대출 금액 대비 총상환금 비율\n",
    "X['dv_rent_i'] = (X['총상환이자'] / X['대출금액']) * 100\n"
   ]
  },
  {
   "cell_type": "code",
   "execution_count": 26,
   "metadata": {},
   "outputs": [],
   "source": [
    "dummies_col = dummies_col + ['dv_category']\n",
    "numeric_col = numeric_col + ['dv_ratio', 'dv_short_ability', 'dv_left_debt', 'dv_rent_p', 'dv_rent_i']"
   ]
  },
  {
   "cell_type": "code",
   "execution_count": 27,
   "metadata": {},
   "outputs": [],
   "source": [
    "from sklearn.model_selection import train_test_split\n",
    "\n",
    "X_train, X_val, y_train, y_val = train_test_split(X, y, test_size=0.2, stratify=y, random_state=42, shuffle=True)"
   ]
  },
  {
   "cell_type": "code",
   "execution_count": 28,
   "metadata": {},
   "outputs": [
    {
     "name": "stdout",
     "output_type": "stream",
     "text": [
      "(154974, 33) (38744, 33) (154974, 1) (38744, 1)\n"
     ]
    }
   ],
   "source": [
    "print(X_train.shape, X_val.shape, y_train.shape, y_val.shape)"
   ]
  },
  {
   "cell_type": "code",
   "execution_count": 29,
   "metadata": {},
   "outputs": [
    {
     "data": {
      "text/plain": [
       "['대출기간_ 36 months',\n",
       " '대출기간_ 60 months',\n",
       " '주택소유상태_MORTGAGE',\n",
       " '주택소유상태_OWN',\n",
       " '주택소유상태_RENT',\n",
       " '대출목적_기타',\n",
       " '대출목적_부채 통합',\n",
       " '대출목적_소규모 사업',\n",
       " '대출목적_신용 카드',\n",
       " '대출목적_의료',\n",
       " '대출목적_이사',\n",
       " '대출목적_자동차',\n",
       " '대출목적_재생 에너지',\n",
       " '대출목적_주요 구매',\n",
       " '대출목적_주택',\n",
       " '대출목적_주택 개선',\n",
       " '대출목적_휴가',\n",
       " 'dv_category']"
      ]
     },
     "execution_count": 29,
     "metadata": {},
     "output_type": "execute_result"
    }
   ],
   "source": [
    "dummies_col"
   ]
  },
  {
   "cell_type": "markdown",
   "metadata": {},
   "source": [
    "# 모델링"
   ]
  },
  {
   "cell_type": "code",
   "execution_count": 48,
   "metadata": {},
   "outputs": [],
   "source": [
    "def get_score(train:pd.DataFrame,  test:pd.DataFrame, x_var_list:list):\n",
    "    \n",
    "    X_train = train \n",
    "    X_test = test\n",
    "\n",
    "    X_train = X_train[x_var_list]\n",
    "    X_test = X_test[x_var_list]\n",
    "    \n",
    "    from sklearn.linear_model import LogisticRegression\n",
    "    from sklearn.tree import DecisionTreeClassifier\n",
    "    from sklearn.ensemble import RandomForestClassifier, GradientBoostingClassifier\n",
    "    from xgboost import XGBClassifier\n",
    "    from lightgbm import LGBMClassifier\n",
    "    from sklearn.metrics import f1_score, accuracy_score\n",
    "    \n",
    "    logit = LogisticRegression()\n",
    "    decision = DecisionTreeClassifier(random_state=42)\n",
    "    rfc = RandomForestClassifier(random_state=42)\n",
    "    gbc = GradientBoostingClassifier(random_state=42)\n",
    "    xgb = XGBClassifier(random_state=42)\n",
    "    light = LGBMClassifier(random_state=42)\n",
    "    \n",
    "    logit.fit(X_train, y_train)\n",
    "    decision.fit(X_train, y_train)\n",
    "    rfc.fit(X_train, y_train)\n",
    "    gbc.fit(X_train, y_train)\n",
    "    xgb.fit(X_train, y_train)\n",
    "    light.fit(X_train, y_train)\n",
    "    \n",
    "    y_pred_train = logit.predict(X_train)\n",
    "    y_pred_test = logit.predict(X_test)\n",
    "    \n",
    "    result_logit = pd.DataFrame({'acc' : [accuracy_score(y_train, y_pred_train), accuracy_score(y_val, y_pred_test)],\n",
    "                            'f1_score' : [f1_score(y_train, y_pred_train, average='macro'), f1_score(y_val, y_pred_test, average='macro')]},\n",
    "                            index = ['train','test'])\n",
    "    \n",
    "    y_pred_train = decision.predict(X_train)\n",
    "    y_pred_test = decision.predict(X_test)\n",
    "    \n",
    "    result_decision = pd.DataFrame({'acc' : [accuracy_score(y_train, y_pred_train), accuracy_score(y_val, y_pred_test)],\n",
    "                            'f1_score' : [f1_score(y_train, y_pred_train, average='macro'), f1_score(y_val, y_pred_test, average='macro')]},\n",
    "                            index = ['train','test'])\n",
    "    \n",
    "    y_pred_train = rfc.predict(X_train)\n",
    "    y_pred_test = rfc.predict(X_test)\n",
    "    \n",
    "    result_rfc = pd.DataFrame({'acc' : [accuracy_score(y_train, y_pred_train), accuracy_score(y_val, y_pred_test)],\n",
    "                            'f1_score' : [f1_score(y_train, y_pred_train, average='macro'), f1_score(y_val, y_pred_test, average='macro')]},\n",
    "                            index = ['train','test'])\n",
    "    \n",
    "    y_pred_train = gbc.predict(X_train)\n",
    "    y_pred_test = gbc.predict(X_test)\n",
    "    \n",
    "    result_gbc = pd.DataFrame({'acc' : [accuracy_score(y_train, y_pred_train), accuracy_score(y_val, y_pred_test)],\n",
    "                            'f1_score' : [f1_score(y_train, y_pred_train, average='macro'), f1_score(y_val, y_pred_test, average='macro')]},\n",
    "                            index = ['train','test'])\n",
    "    \n",
    "    y_pred_train = xgb.predict(X_train)\n",
    "    y_pred_test = xgb.predict(X_test)\n",
    "    \n",
    "    result_xgb = pd.DataFrame({'acc' : [accuracy_score(y_train, y_pred_train), accuracy_score(y_val, y_pred_test)],\n",
    "                            'f1_score' : [f1_score(y_train, y_pred_train, average='macro'), f1_score(y_val, y_pred_test, average='macro')]},\n",
    "                            index = ['train','test'])\n",
    "    \n",
    "    y_pred_train = light.predict(X_train)\n",
    "    y_pred_test = light.predict(X_test)\n",
    "    \n",
    "    result_light = pd.DataFrame({'acc' : [accuracy_score(y_train, y_pred_train), accuracy_score(y_val, y_pred_test)],\n",
    "                            'f1_score' : [f1_score(y_train, y_pred_train, average='macro'), f1_score(y_val, y_pred_test, average='macro')]},\n",
    "                            index = ['train','test'])\n",
    "    \n",
    "    print('로지스틱')\n",
    "    display(result_logit.round(2))\n",
    "    print()\n",
    "    print('의사결정나무')\n",
    "    display(result_decision.round(2))\n",
    "    print()\n",
    "    print('랜덤포레스트')\n",
    "    display(result_rfc.round(2))\n",
    "    print()\n",
    "    print('그라디언트 부스팅')\n",
    "    display(result_gbc.round(2))\n",
    "    print()\n",
    "    print('XG 부스팅')\n",
    "    display(result_xgb.round(2))\n",
    "    print()\n",
    "    print('Light GBM')\n",
    "    display(result_light.round(2))\n",
    "    "
   ]
  },
  {
   "cell_type": "code",
   "execution_count": null,
   "metadata": {},
   "outputs": [],
   "source": [
    "print(X_train.columns)\n",
    "print(X_val.columns)"
   ]
  },
  {
   "cell_type": "code",
   "execution_count": 30,
   "metadata": {},
   "outputs": [
    {
     "data": {
      "text/html": [
       "<div>\n",
       "<style scoped>\n",
       "    .dataframe tbody tr th:only-of-type {\n",
       "        vertical-align: middle;\n",
       "    }\n",
       "\n",
       "    .dataframe tbody tr th {\n",
       "        vertical-align: top;\n",
       "    }\n",
       "\n",
       "    .dataframe thead th {\n",
       "        text-align: right;\n",
       "    }\n",
       "</style>\n",
       "<table border=\"1\" class=\"dataframe\">\n",
       "  <thead>\n",
       "    <tr style=\"text-align: right;\">\n",
       "      <th></th>\n",
       "      <th>acc</th>\n",
       "      <th>f1_score</th>\n",
       "    </tr>\n",
       "  </thead>\n",
       "  <tbody>\n",
       "    <tr>\n",
       "      <th>train</th>\n",
       "      <td>0.96</td>\n",
       "      <td>0.96</td>\n",
       "    </tr>\n",
       "    <tr>\n",
       "      <th>test</th>\n",
       "      <td>0.94</td>\n",
       "      <td>0.94</td>\n",
       "    </tr>\n",
       "  </tbody>\n",
       "</table>\n",
       "</div>"
      ],
      "text/plain": [
       "        acc  f1_score\n",
       "train  0.96      0.96\n",
       "test   0.94      0.94"
      ]
     },
     "metadata": {},
     "output_type": "display_data"
    }
   ],
   "source": [
    "from xgboost import XGBClassifier\n",
    "from sklearn.model_selection import GridSearchCV\n",
    "from sklearn.metrics import accuracy_score, f1_score\n",
    "\n",
    "\n",
    "\n",
    "xgb = XGBClassifier(random_state=42)\n",
    "xgb.fit(X_train[dummies_col + numeric_col], y_train)\n",
    "    \n",
    "y_pred_train = xgb.predict(X_train[dummies_col + numeric_col])\n",
    "y_pred_val = xgb.predict(X_val[dummies_col + numeric_col])\n",
    "    \n",
    "result_xgb = pd.DataFrame(data={'acc' : [accuracy_score(y_train, y_pred_train), accuracy_score(y_val, y_pred_val)],\n",
    "                                'f1_score' : [f1_score(y_train, y_pred_train, average='macro'), f1_score(y_val, y_pred_val, average='macro')]},\n",
    "                          index=['train','test'])\n",
    "    \n",
    "display(result_xgb.round(2))"
   ]
  },
  {
   "cell_type": "code",
   "execution_count": 31,
   "metadata": {},
   "outputs": [
    {
     "data": {
      "text/plain": [
       "array([[5354,  140,   27,   10,    1,    0,    2],\n",
       "       [ 127, 5266,  131,    6,    5,    0,    0],\n",
       "       [  39,  167, 5195,  103,   29,    1,    1],\n",
       "       [  34,   41,  132, 4882,  383,   46,   17],\n",
       "       [   6,   10,   56,  384, 4882,  172,   25],\n",
       "       [   1,    3,   18,   33,  143, 5237,  100],\n",
       "       [   0,    0,    0,    1,    6,   40, 5488]], dtype=int64)"
      ]
     },
     "execution_count": 31,
     "metadata": {},
     "output_type": "execute_result"
    }
   ],
   "source": [
    "from sklearn.metrics import confusion_matrix\n",
    "confusion = confusion_matrix(y_val, y_pred_val)\n",
    "confusion"
   ]
  },
  {
   "cell_type": "code",
   "execution_count": 32,
   "metadata": {},
   "outputs": [
    {
     "data": {
      "image/png": "[encoded data removed]",
      "text/plain": [
       "<Figure size 640x480 with 2 Axes>"
      ]
     },
     "metadata": {},
     "output_type": "display_data"
    }
   ],
   "source": [
    "labels = ['A', 'B', 'C', 'D', 'E', 'F', 'G']\n",
    "\n",
    "sns.heatmap(confusion, cmap='Blues',annot=True ,xticklabels=labels, yticklabels=labels)\n",
    "plt.xlabel('Predicted')\n",
    "plt.ylabel('True')\n",
    "plt.show()"
   ]
  },
  {
   "cell_type": "code",
   "execution_count": 37,
   "metadata": {},
   "outputs": [
    {
     "name": "stdout",
     "output_type": "stream",
     "text": [
      "Accuracy: 0.939242205244683\n",
      "Accuracy: 0.9378226306008672\n",
      "Accuracy: 0.9374096634317571\n",
      "Accuracy: 0.9360916810778721\n",
      "Accuracy: 0.9356787032496193\n"
     ]
    }
   ],
   "source": [
    "from sklearn.model_selection import KFold\n",
    "kf = KFold(n_splits=5, shuffle=True, random_state=42)\n",
    "\n",
    "for train_index, test_index in kf.split(X):\n",
    "    X_train, X_test = X.iloc[train_index], X.iloc[test_index]\n",
    "    y_train, y_test = y.iloc[train_index], y.iloc[test_index]\n",
    "    \n",
    "    xgb = XGBClassifier(random_state=42)\n",
    "    xgb.fit(X_train, y_train)\n",
    "    y_pred = xgb.predict(X_test)\n",
    "    accuracy = accuracy_score(y_test, y_pred)\n",
    "    \n",
    "    print(f'Accuracy: {accuracy}')"
   ]
  },
  {
   "cell_type": "code",
   "execution_count": 38,
   "metadata": {},
   "outputs": [
    {
     "name": "stdout",
     "output_type": "stream",
     "text": [
      "Best parameters found:  {'learning_rate': 0.3, 'max_depth': 7, 'n_estimators': 300}\n",
      "Best accuracy found:  0.9457009195031457\n"
     ]
    }
   ],
   "source": [
    "from sklearn.model_selection import GridSearchCV\n",
    "param_grid = {\n",
    "    'n_estimators': [100, 200, 300],\n",
    "    'max_depth': [3, 5, 7],\n",
    "    'learning_rate': [0.01, 0.1, 0.3]\n",
    "}\n",
    "\n",
    "xgb = XGBClassifier(random_state=42)\n",
    "\n",
    "grid_search = GridSearchCV(estimator=xgb, param_grid=param_grid, cv=5, scoring='accuracy')\n",
    "\n",
    "grid_search.fit(X_train, y_train)\n",
    "\n",
    "print(\"Best parameters found: \", grid_search.best_params_)\n",
    "print(\"Best accuracy found: \", grid_search.best_score_)"
   ]
  },
  {
   "cell_type": "code",
   "execution_count": 39,
   "metadata": {},
   "outputs": [
    {
     "name": "stdout",
     "output_type": "stream",
     "text": [
      "Final Accuracy: 0.9523526830653279\n"
     ]
    }
   ],
   "source": [
    "best_n_estimators = grid_search.best_params_['n_estimators']\n",
    "best_max_depth = grid_search.best_params_['max_depth']\n",
    "best_learning_rate = grid_search.best_params_['learning_rate']\n",
    "\n",
    "best_xgb_model = XGBClassifier(n_estimators=best_n_estimators, max_depth=best_max_depth, learning_rate=best_learning_rate)\n",
    "\n",
    "best_xgb_model.fit(X_train, y_train)\n",
    "\n",
    "y_pred = best_xgb_model.predict(X_test)\n",
    "accuracy = accuracy_score(y_test, y_pred)\n",
    "\n",
    "print(\"Final Accuracy:\", accuracy)"
   ]
  },
  {
   "cell_type": "code",
   "execution_count": 49,
   "metadata": {},
   "outputs": [
    {
     "data": {
      "image/png": "[encoded data removed]",
      "text/plain": [
       "<Figure size 800x600 with 2 Axes>"
      ]
     },
     "metadata": {},
     "output_type": "display_data"
    }
   ],
   "source": [
    "from sklearn.metrics import confusion_matrix\n",
    "import seaborn as sns\n",
    "\n",
    "labels = ['A', 'B', 'C', 'D', 'E', 'F', 'G']\n",
    "\n",
    "conf_matrix = confusion_matrix(y_test, y_pred)\n",
    "\n",
    "plt.figure(figsize=(8, 6))\n",
    "sns.heatmap(conf_matrix, annot=True, cmap='Blues', fmt='g')\n",
    "plt.xlabel('Predicted Label')\n",
    "plt.ylabel('True Label')\n",
    "plt.title('Confusion Matrix')\n",
    "plt.show()"
   ]
  },
  {
   "cell_type": "code",
   "execution_count": 46,
   "metadata": {},
   "outputs": [
    {
     "data": {
      "image/png": "[encoded data removed]",
      "text/plain": [
       "<Figure size 1000x600 with 1 Axes>"
      ]
     },
     "metadata": {},
     "output_type": "display_data"
    }
   ],
   "source": [
    "best_xgb_model.fit(X_train, y_train)\n",
    "\n",
    "importances = best_xgb_model.feature_importances_\n",
    "\n",
    "feature_names = X_train.columns\n",
    "\n",
    "importance_df = pd.DataFrame({'Feature': feature_names, 'Importance': importances})\n",
    "\n",
    "importance_df = importance_df.sort_values(by='Importance', ascending=False)\n",
    "\n",
    "plt.figure(figsize=(10, 6))\n",
    "sns.barplot(x='Importance', y='Feature', data=importance_df.head(top_n), palette='viridis')\n",
    "plt.xlabel('Importance')\n",
    "plt.ylabel('Feature')\n",
    "plt.title(f'Top Feature Importance')\n",
    "plt.show()"
   ]
  }
 ],
 "metadata": {
  "kernelspec": {
   "display_name": "Python 3",
   "language": "python",
   "name": "python3"
  },
  "language_info": {
   "codemirror_mode": {
    "name": "ipython",
    "version": 3
   },
   "file_extension": ".py",
   "mimetype": "text/x-python",
   "name": "python",
   "nbconvert_exporter": "python",
   "pygments_lexer": "ipython3",
   "version": "3.8.6"
  }
 },
 "nbformat": 4,
 "nbformat_minor": 2
}
