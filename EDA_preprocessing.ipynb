{
 "cells": [
  {
   "cell_type": "markdown",
   "metadata": {},
   "source": [
    "### 02/06 정리\n",
    "### 높은 등급의 특징\n",
    "\n",
    "아래 특징의 비율이 등급이 높을수록 높았음\n",
    "\n",
    "아래 특징들을 바탕으로 파생변수를 만들 수 있을 거 같음\n",
    "\n",
    "- 대출기간 : 단기\n",
    "\n",
    "- 근로기간 : 장기\n",
    "\n",
    "- 주택상태 : 전세\n",
    "\n",
    "- 대출목적 : 부채통합\n"
   ]
  },
  {
   "cell_type": "code",
   "execution_count": 33,
   "metadata": {},
   "outputs": [],
   "source": [
    "import pandas as pd\n",
    "import numpy as np\n",
    "import matplotlib.pyplot as plt\n",
    "import seaborn as sns\n",
    "import sidetable"
   ]
  },
  {
   "cell_type": "code",
   "execution_count": 39,
   "metadata": {},
   "outputs": [
    {
     "data": {
      "text/plain": [
       "96294"
      ]
     },
     "execution_count": 39,
     "metadata": {},
     "output_type": "execute_result"
    }
   ],
   "source": [
    "## 데이터 갯수\n",
    "\n",
    "df = pd.read_csv('open/train.csv')\n",
    "len(df)"
   ]
  },
  {
   "cell_type": "code",
   "execution_count": 40,
   "metadata": {},
   "outputs": [
    {
     "data": {
      "text/plain": [
       "ID                 0\n",
       "대출금액               0\n",
       "대출기간               0\n",
       "근로기간            5671\n",
       "주택소유상태             0\n",
       "연간소득               0\n",
       "부채_대비_소득_비율        0\n",
       "총계좌수               0\n",
       "대출목적               0\n",
       "최근_2년간_연체_횟수       0\n",
       "총상환원금              0\n",
       "총상환이자              0\n",
       "총연체금액              0\n",
       "연체계좌수              0\n",
       "대출등급               0\n",
       "dtype: int64"
      ]
     },
     "execution_count": 40,
     "metadata": {},
     "output_type": "execute_result"
    }
   ],
   "source": [
    "## 결측치 확인\n",
    "## na나 null이 아닌 Unknown으로 되어있음\n",
    "df.isin(['Unknown']).sum()"
   ]
  },
  {
   "cell_type": "code",
   "execution_count": 5,
   "metadata": {},
   "outputs": [
    {
     "data": {
      "text/plain": [
       "array(['C', 'B', 'A', 'D', 'F', 'G', 'E'], dtype=object)"
      ]
     },
     "execution_count": 5,
     "metadata": {},
     "output_type": "execute_result"
    }
   ],
   "source": [
    "df['대출등급'].unique()"
   ]
  },
  {
   "cell_type": "markdown",
   "metadata": {},
   "source": [
    "### 등급별 특징 확인"
   ]
  },
  {
   "cell_type": "code",
   "execution_count": 38,
   "metadata": {},
   "outputs": [
    {
     "name": "stdout",
     "output_type": "stream",
     "text": [
      "대출기간\n"
     ]
    },
    {
     "data": {
      "text/plain": [
       " 36 months    0.951109\n",
       " 60 months    0.048891\n",
       "Name: 대출기간, dtype: float64"
      ]
     },
     "metadata": {},
     "output_type": "display_data"
    },
    {
     "name": "stdout",
     "output_type": "stream",
     "text": [
      "----------------------------------\n",
      "근로기간\n"
     ]
    },
    {
     "data": {
      "text/plain": [
       "10+ years    0.350107\n",
       "2 years      0.086692\n",
       "3 years      0.077212\n",
       "< 1 year     0.075244\n",
       "1 year       0.061114\n",
       "5 years      0.058788\n",
       "4 years      0.057775\n",
       "Unknown      0.055688\n",
       "8 years      0.051693\n",
       "6 years      0.038755\n",
       "9 years      0.037026\n",
       "7 years      0.036907\n",
       "10+years     0.008168\n",
       "<1 year      0.003279\n",
       "3            0.001192\n",
       "1 years      0.000358\n",
       "Name: 근로기간, dtype: float64"
      ]
     },
     "metadata": {},
     "output_type": "display_data"
    },
    {
     "name": "stdout",
     "output_type": "stream",
     "text": [
      "----------------------------------\n",
      "주택소유상태\n"
     ]
    },
    {
     "data": {
      "text/plain": [
       "MORTGAGE    0.574767\n",
       "RENT        0.314095\n",
       "OWN         0.111138\n",
       "Name: 주택소유상태, dtype: float64"
      ]
     },
     "metadata": {},
     "output_type": "display_data"
    },
    {
     "name": "stdout",
     "output_type": "stream",
     "text": [
      "----------------------------------\n",
      "대출목적\n"
     ]
    },
    {
     "data": {
      "text/plain": [
       "부채 통합     0.479132\n",
       "신용 카드     0.383019\n",
       "주택 개선     0.073038\n",
       "주요 구매     0.022180\n",
       "기타        0.021226\n",
       "자동차       0.010374\n",
       "의료        0.006201\n",
       "휴가        0.002385\n",
       "소규모 사업    0.001133\n",
       "이사        0.000775\n",
       "주택        0.000477\n",
       "재생 에너지    0.000060\n",
       "Name: 대출목적, dtype: float64"
      ]
     },
     "metadata": {},
     "output_type": "display_data"
    },
    {
     "name": "stdout",
     "output_type": "stream",
     "text": [
      "----------------------------------\n",
      "최근_2년간_연체_횟수\n"
     ]
    },
    {
     "data": {
      "text/plain": [
       "0     0.857202\n",
       "1     0.101956\n",
       "2     0.024446\n",
       "3     0.008228\n",
       "4     0.004174\n",
       "5     0.001968\n",
       "6     0.000835\n",
       "10    0.000298\n",
       "7     0.000298\n",
       "8     0.000238\n",
       "9     0.000119\n",
       "18    0.000060\n",
       "14    0.000060\n",
       "15    0.000060\n",
       "13    0.000060\n",
       "Name: 최근_2년간_연체_횟수, dtype: float64"
      ]
     },
     "metadata": {},
     "output_type": "display_data"
    },
    {
     "name": "stdout",
     "output_type": "stream",
     "text": [
      "----------------------------------\n"
     ]
    }
   ],
   "source": [
    "category_col = ['대출기간', '근로기간', '주택소유상태', '대출목적', '최근_2년간_연체_횟수']\n",
    "\n",
    "for col in category_col:\n",
    "    print(col)\n",
    "    display(df[df['대출등급'] == \"A\"][col].value_counts()/df[df['대출등급'] == \"A\"][col].value_counts().sum())\n",
    "    print('----------------------------------')\n",
    "\n",
    "## 대출기간 : 단기\n",
    "## 근로기간 : 장기\n",
    "## 주택상태 : 전세\n",
    "## 대출목적 : 부채통합"
   ]
  },
  {
   "cell_type": "code",
   "execution_count": 11,
   "metadata": {},
   "outputs": [
    {
     "data": {
      "text/plain": [
       "ID              0\n",
       "대출금액            0\n",
       "대출기간            0\n",
       "근로기간            0\n",
       "주택소유상태          0\n",
       "연간소득            0\n",
       "부채_대비_소득_비율     0\n",
       "총계좌수            0\n",
       "대출목적            0\n",
       "최근_2년간_연체_횟수    0\n",
       "총상환원금           0\n",
       "총상환이자           0\n",
       "총연체금액           0\n",
       "연체계좌수           0\n",
       "대출등급            0\n",
       "dtype: int64"
      ]
     },
     "execution_count": 11,
     "metadata": {},
     "output_type": "execute_result"
    }
   ],
   "source": [
    "df.isnull().sum()"
   ]
  },
  {
   "cell_type": "code",
   "execution_count": 9,
   "metadata": {},
   "outputs": [
    {
     "data": {
      "text/html": [
       "<div>\n",
       "<style scoped>\n",
       "    .dataframe tbody tr th:only-of-type {\n",
       "        vertical-align: middle;\n",
       "    }\n",
       "\n",
       "    .dataframe tbody tr th {\n",
       "        vertical-align: top;\n",
       "    }\n",
       "\n",
       "    .dataframe thead th {\n",
       "        text-align: right;\n",
       "    }\n",
       "</style>\n",
       "<table border=\"1\" class=\"dataframe\">\n",
       "  <thead>\n",
       "    <tr style=\"text-align: right;\">\n",
       "      <th></th>\n",
       "      <th>ID</th>\n",
       "      <th>대출금액</th>\n",
       "      <th>대출기간</th>\n",
       "      <th>근로기간</th>\n",
       "      <th>주택소유상태</th>\n",
       "      <th>연간소득</th>\n",
       "      <th>부채_대비_소득_비율</th>\n",
       "      <th>총계좌수</th>\n",
       "      <th>대출목적</th>\n",
       "      <th>최근_2년간_연체_횟수</th>\n",
       "      <th>총상환원금</th>\n",
       "      <th>총상환이자</th>\n",
       "      <th>총연체금액</th>\n",
       "      <th>연체계좌수</th>\n",
       "      <th>대출등급</th>\n",
       "    </tr>\n",
       "  </thead>\n",
       "  <tbody>\n",
       "    <tr>\n",
       "      <th>count</th>\n",
       "      <td>96294</td>\n",
       "      <td>9.629400e+04</td>\n",
       "      <td>96294</td>\n",
       "      <td>96294</td>\n",
       "      <td>96294</td>\n",
       "      <td>9.629400e+04</td>\n",
       "      <td>96294.000000</td>\n",
       "      <td>96294.000000</td>\n",
       "      <td>96294</td>\n",
       "      <td>96294.000000</td>\n",
       "      <td>9.629400e+04</td>\n",
       "      <td>9.629400e+04</td>\n",
       "      <td>96294.000000</td>\n",
       "      <td>96294.000000</td>\n",
       "      <td>96294</td>\n",
       "    </tr>\n",
       "    <tr>\n",
       "      <th>unique</th>\n",
       "      <td>96294</td>\n",
       "      <td>NaN</td>\n",
       "      <td>2</td>\n",
       "      <td>16</td>\n",
       "      <td>4</td>\n",
       "      <td>NaN</td>\n",
       "      <td>NaN</td>\n",
       "      <td>NaN</td>\n",
       "      <td>12</td>\n",
       "      <td>NaN</td>\n",
       "      <td>NaN</td>\n",
       "      <td>NaN</td>\n",
       "      <td>NaN</td>\n",
       "      <td>NaN</td>\n",
       "      <td>7</td>\n",
       "    </tr>\n",
       "    <tr>\n",
       "      <th>top</th>\n",
       "      <td>TRAIN_00000</td>\n",
       "      <td>NaN</td>\n",
       "      <td>36 months</td>\n",
       "      <td>10+ years</td>\n",
       "      <td>MORTGAGE</td>\n",
       "      <td>NaN</td>\n",
       "      <td>NaN</td>\n",
       "      <td>NaN</td>\n",
       "      <td>부채 통합</td>\n",
       "      <td>NaN</td>\n",
       "      <td>NaN</td>\n",
       "      <td>NaN</td>\n",
       "      <td>NaN</td>\n",
       "      <td>NaN</td>\n",
       "      <td>B</td>\n",
       "    </tr>\n",
       "    <tr>\n",
       "      <th>freq</th>\n",
       "      <td>1</td>\n",
       "      <td>NaN</td>\n",
       "      <td>64479</td>\n",
       "      <td>31585</td>\n",
       "      <td>47934</td>\n",
       "      <td>NaN</td>\n",
       "      <td>NaN</td>\n",
       "      <td>NaN</td>\n",
       "      <td>55150</td>\n",
       "      <td>NaN</td>\n",
       "      <td>NaN</td>\n",
       "      <td>NaN</td>\n",
       "      <td>NaN</td>\n",
       "      <td>NaN</td>\n",
       "      <td>28817</td>\n",
       "    </tr>\n",
       "    <tr>\n",
       "      <th>mean</th>\n",
       "      <td>NaN</td>\n",
       "      <td>1.830400e+07</td>\n",
       "      <td>NaN</td>\n",
       "      <td>NaN</td>\n",
       "      <td>NaN</td>\n",
       "      <td>9.392672e+07</td>\n",
       "      <td>19.379590</td>\n",
       "      <td>25.304827</td>\n",
       "      <td>NaN</td>\n",
       "      <td>0.345681</td>\n",
       "      <td>8.225035e+05</td>\n",
       "      <td>4.282282e+05</td>\n",
       "      <td>54.380584</td>\n",
       "      <td>0.005805</td>\n",
       "      <td>NaN</td>\n",
       "    </tr>\n",
       "    <tr>\n",
       "      <th>std</th>\n",
       "      <td>NaN</td>\n",
       "      <td>1.032908e+07</td>\n",
       "      <td>NaN</td>\n",
       "      <td>NaN</td>\n",
       "      <td>NaN</td>\n",
       "      <td>9.956871e+07</td>\n",
       "      <td>33.569559</td>\n",
       "      <td>12.088566</td>\n",
       "      <td>NaN</td>\n",
       "      <td>0.919119</td>\n",
       "      <td>1.027745e+06</td>\n",
       "      <td>4.402111e+05</td>\n",
       "      <td>1414.769218</td>\n",
       "      <td>0.079966</td>\n",
       "      <td>NaN</td>\n",
       "    </tr>\n",
       "    <tr>\n",
       "      <th>min</th>\n",
       "      <td>NaN</td>\n",
       "      <td>1.200000e+06</td>\n",
       "      <td>NaN</td>\n",
       "      <td>NaN</td>\n",
       "      <td>NaN</td>\n",
       "      <td>0.000000e+00</td>\n",
       "      <td>0.000000</td>\n",
       "      <td>4.000000</td>\n",
       "      <td>NaN</td>\n",
       "      <td>0.000000</td>\n",
       "      <td>0.000000e+00</td>\n",
       "      <td>0.000000e+00</td>\n",
       "      <td>0.000000</td>\n",
       "      <td>0.000000</td>\n",
       "      <td>NaN</td>\n",
       "    </tr>\n",
       "    <tr>\n",
       "      <th>25%</th>\n",
       "      <td>NaN</td>\n",
       "      <td>1.020000e+07</td>\n",
       "      <td>NaN</td>\n",
       "      <td>NaN</td>\n",
       "      <td>NaN</td>\n",
       "      <td>5.760000e+07</td>\n",
       "      <td>12.650000</td>\n",
       "      <td>17.000000</td>\n",
       "      <td>NaN</td>\n",
       "      <td>0.000000</td>\n",
       "      <td>3.075720e+05</td>\n",
       "      <td>1.346160e+05</td>\n",
       "      <td>0.000000</td>\n",
       "      <td>0.000000</td>\n",
       "      <td>NaN</td>\n",
       "    </tr>\n",
       "    <tr>\n",
       "      <th>50%</th>\n",
       "      <td>NaN</td>\n",
       "      <td>1.680000e+07</td>\n",
       "      <td>NaN</td>\n",
       "      <td>NaN</td>\n",
       "      <td>NaN</td>\n",
       "      <td>7.800000e+07</td>\n",
       "      <td>18.740000</td>\n",
       "      <td>24.000000</td>\n",
       "      <td>NaN</td>\n",
       "      <td>0.000000</td>\n",
       "      <td>5.976960e+05</td>\n",
       "      <td>2.870040e+05</td>\n",
       "      <td>0.000000</td>\n",
       "      <td>0.000000</td>\n",
       "      <td>NaN</td>\n",
       "    </tr>\n",
       "    <tr>\n",
       "      <th>75%</th>\n",
       "      <td>NaN</td>\n",
       "      <td>2.400000e+07</td>\n",
       "      <td>NaN</td>\n",
       "      <td>NaN</td>\n",
       "      <td>NaN</td>\n",
       "      <td>1.128000e+08</td>\n",
       "      <td>25.540000</td>\n",
       "      <td>32.000000</td>\n",
       "      <td>NaN</td>\n",
       "      <td>0.000000</td>\n",
       "      <td>1.055076e+06</td>\n",
       "      <td>5.702160e+05</td>\n",
       "      <td>0.000000</td>\n",
       "      <td>0.000000</td>\n",
       "      <td>NaN</td>\n",
       "    </tr>\n",
       "    <tr>\n",
       "      <th>max</th>\n",
       "      <td>NaN</td>\n",
       "      <td>4.200000e+07</td>\n",
       "      <td>NaN</td>\n",
       "      <td>NaN</td>\n",
       "      <td>NaN</td>\n",
       "      <td>1.080000e+10</td>\n",
       "      <td>9999.000000</td>\n",
       "      <td>169.000000</td>\n",
       "      <td>NaN</td>\n",
       "      <td>30.000000</td>\n",
       "      <td>4.195594e+07</td>\n",
       "      <td>5.653416e+06</td>\n",
       "      <td>75768.000000</td>\n",
       "      <td>4.000000</td>\n",
       "      <td>NaN</td>\n",
       "    </tr>\n",
       "  </tbody>\n",
       "</table>\n",
       "</div>"
      ],
      "text/plain": [
       "                 ID          대출금액        대출기간       근로기간    주택소유상태  \\\n",
       "count         96294  9.629400e+04       96294      96294     96294   \n",
       "unique        96294           NaN           2         16         4   \n",
       "top     TRAIN_00000           NaN   36 months  10+ years  MORTGAGE   \n",
       "freq              1           NaN       64479      31585     47934   \n",
       "mean            NaN  1.830400e+07         NaN        NaN       NaN   \n",
       "std             NaN  1.032908e+07         NaN        NaN       NaN   \n",
       "min             NaN  1.200000e+06         NaN        NaN       NaN   \n",
       "25%             NaN  1.020000e+07         NaN        NaN       NaN   \n",
       "50%             NaN  1.680000e+07         NaN        NaN       NaN   \n",
       "75%             NaN  2.400000e+07         NaN        NaN       NaN   \n",
       "max             NaN  4.200000e+07         NaN        NaN       NaN   \n",
       "\n",
       "                연간소득   부채_대비_소득_비율          총계좌수   대출목적  최근_2년간_연체_횟수  \\\n",
       "count   9.629400e+04  96294.000000  96294.000000  96294  96294.000000   \n",
       "unique           NaN           NaN           NaN     12           NaN   \n",
       "top              NaN           NaN           NaN  부채 통합           NaN   \n",
       "freq             NaN           NaN           NaN  55150           NaN   \n",
       "mean    9.392672e+07     19.379590     25.304827    NaN      0.345681   \n",
       "std     9.956871e+07     33.569559     12.088566    NaN      0.919119   \n",
       "min     0.000000e+00      0.000000      4.000000    NaN      0.000000   \n",
       "25%     5.760000e+07     12.650000     17.000000    NaN      0.000000   \n",
       "50%     7.800000e+07     18.740000     24.000000    NaN      0.000000   \n",
       "75%     1.128000e+08     25.540000     32.000000    NaN      0.000000   \n",
       "max     1.080000e+10   9999.000000    169.000000    NaN     30.000000   \n",
       "\n",
       "               총상환원금         총상환이자         총연체금액         연체계좌수   대출등급  \n",
       "count   9.629400e+04  9.629400e+04  96294.000000  96294.000000  96294  \n",
       "unique           NaN           NaN           NaN           NaN      7  \n",
       "top              NaN           NaN           NaN           NaN      B  \n",
       "freq             NaN           NaN           NaN           NaN  28817  \n",
       "mean    8.225035e+05  4.282282e+05     54.380584      0.005805    NaN  \n",
       "std     1.027745e+06  4.402111e+05   1414.769218      0.079966    NaN  \n",
       "min     0.000000e+00  0.000000e+00      0.000000      0.000000    NaN  \n",
       "25%     3.075720e+05  1.346160e+05      0.000000      0.000000    NaN  \n",
       "50%     5.976960e+05  2.870040e+05      0.000000      0.000000    NaN  \n",
       "75%     1.055076e+06  5.702160e+05      0.000000      0.000000    NaN  \n",
       "max     4.195594e+07  5.653416e+06  75768.000000      4.000000    NaN  "
      ]
     },
     "execution_count": 9,
     "metadata": {},
     "output_type": "execute_result"
    }
   ],
   "source": [
    "df.describe(include='all')"
   ]
  },
  {
   "cell_type": "code",
   "execution_count": null,
   "metadata": {},
   "outputs": [],
   "source": []
  }
 ],
 "metadata": {
  "kernelspec": {
   "display_name": "base",
   "language": "python",
   "name": "python3"
  },
  "language_info": {
   "codemirror_mode": {
    "name": "ipython",
    "version": 3
   },
   "file_extension": ".py",
   "mimetype": "text/x-python",
   "name": "python",
   "nbconvert_exporter": "python",
   "pygments_lexer": "ipython3",
   "version": "3.9.13"
  }
 },
 "nbformat": 4,
 "nbformat_minor": 2
}
