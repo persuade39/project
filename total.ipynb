{
 "cells": [
  {
   "cell_type": "code",
   "execution_count": 1,
   "metadata": {},
   "outputs": [
    {
     "name": "stderr",
     "output_type": "stream",
     "text": [
      "C:\\Users\\준자미나\\AppData\\Local\\Temp\\ipykernel_9100\\435718506.py:1: DeprecationWarning: \n",
      "Pyarrow will become a required dependency of pandas in the next major release of pandas (pandas 3.0),\n",
      "(to allow more performant data types, such as the Arrow string type, and better interoperability with other libraries)\n",
      "but was not found to be installed on your system.\n",
      "If this would cause problems for you,\n",
      "please provide us feedback at https://github.com/pandas-dev/pandas/issues/54466\n",
      "        \n",
      "  import pandas as pd\n"
     ]
    }
   ],
   "source": [
    "import pandas as pd\n",
    "import numpy as np\n",
    "import matplotlib.pyplot as plt\n",
    "import seaborn as sns\n",
    "\n",
    "import warnings\n",
    "warnings.filterwarnings(action='ignore')\n",
    "\n",
    "plt.rcParams['font.family'] = 'Malgun Gothic'\n",
    "plt.rcParams['axes.unicode_minus'] = False"
   ]
  },
  {
   "cell_type": "code",
   "execution_count": 68,
   "metadata": {},
   "outputs": [],
   "source": [
    "df = pd.read_csv('train.csv')"
   ]
  },
  {
   "cell_type": "markdown",
   "metadata": {},
   "source": [
    "## 1. 결측치 제거"
   ]
  },
  {
   "cell_type": "markdown",
   "metadata": {},
   "source": [
    "### 주택소유상태"
   ]
  },
  {
   "cell_type": "code",
   "execution_count": 69,
   "metadata": {},
   "outputs": [],
   "source": [
    "df = df.drop(index=df[df['주택소유상태'] == 'ANY'].index)\n"
   ]
  },
  {
   "cell_type": "markdown",
   "metadata": {},
   "source": [
    "## 2. 이상치"
   ]
  },
  {
   "cell_type": "code",
   "execution_count": 70,
   "metadata": {},
   "outputs": [],
   "source": [
    "numeric_col = ['대출금액', '연간소득', '부채_대비_소득_비율', '총계좌수', '최근_2년간_연체_횟수', '총상환원금', '총상환이자', '총연체금액', '연체계좌수', '근로기간']\n",
    "category_col = ['대출기간', '주택소유상태', '대출목적']\n"
   ]
  },
  {
   "cell_type": "code",
   "execution_count": 71,
   "metadata": {},
   "outputs": [
    {
     "name": "stdout",
     "output_type": "stream",
     "text": [
      "이상치 제거 후 데이터프레임 크기:\n",
      "90618\n"
     ]
    }
   ],
   "source": [
    "import numpy as np\n",
    "\n",
    "numeric_cols = ['연간소득', '총계좌수', '최근_2년간_연체_횟수', '총상환원금', '총상환이자', '총연체금액','부채_대비_소득_비율']\n",
    "\n",
    "# 표준편차 사용하여 이상치 제거\n",
    "def remove_outliers(df, col, threshold=3):\n",
    "    mean = np.mean(df[col])\n",
    "    std_dev = np.std(df[col])\n",
    "    lower_bound = mean - threshold * std_dev\n",
    "    upper_bound = mean + threshold * std_dev\n",
    "    df= df[(df[col] >= lower_bound) & (df[col] <= upper_bound)]\n",
    "    return df\n",
    "\n",
    "# 이상치 제거 후 데이터프레임 생성\n",
    "df = df.copy()  # 복사본 생성\n",
    "\n",
    "for col in numeric_cols:\n",
    "    df = remove_outliers(df, col, threshold=3)\n",
    "\n",
    "# 이상치 제거 후 데이터프레임 크기 확인\n",
    "print(\"이상치 제거 후 데이터프레임 크기:\")\n",
    "print(len(df))"
   ]
  },
  {
   "cell_type": "markdown",
   "metadata": {},
   "source": [
    "#### EDA를 위한 그래프용 코드가 중간중간에 있음"
   ]
  },
  {
   "cell_type": "code",
   "execution_count": 72,
   "metadata": {},
   "outputs": [],
   "source": [
    "# result = df[['대출등급', 'ID']].groupby('대출등급').count().sort_index()\n",
    "# result"
   ]
  },
  {
   "cell_type": "code",
   "execution_count": 73,
   "metadata": {},
   "outputs": [],
   "source": [
    "# sns.barplot(data=result, x=result.index, y=result['ID'])\n",
    "# plt.title('오버샘플링 전', size=15)\n",
    "# plt.xlabel('대출등급')\n",
    "# plt.ylabel('counts')\n"
   ]
  },
  {
   "cell_type": "markdown",
   "metadata": {},
   "source": [
    "## 3. 결측치 대치\n",
    "\n",
    "### (1) 회귀모델"
   ]
  },
  {
   "cell_type": "code",
   "execution_count": 74,
   "metadata": {},
   "outputs": [],
   "source": [
    "def year_encoder(x):\n",
    "    output = x.replace('years', '')\n",
    "    output = output.replace('year', '')\n",
    "    output = output.replace('+', '')\n",
    "    output = output.replace('<', '')\n",
    "    output = output.replace('Unknown', '-1').strip()\n",
    "    output = int(output)\n",
    "\n",
    "    return output"
   ]
  },
  {
   "cell_type": "code",
   "execution_count": 75,
   "metadata": {},
   "outputs": [],
   "source": [
    "df['근로기간'] = df['근로기간'].apply(year_encoder)"
   ]
  },
  {
   "cell_type": "code",
   "execution_count": 76,
   "metadata": {},
   "outputs": [
    {
     "name": "stdout",
     "output_type": "stream",
     "text": [
      "            ID      대출금액        대출기간       근로기간    주택소유상태       연간소득  \\\n",
      "0  TRAIN_00000  12480000   36 months   6.000000      RENT   72000000   \n",
      "1  TRAIN_00001  14400000   60 months  10.000000  MORTGAGE  130800000   \n",
      "2  TRAIN_00002  12000000   36 months   5.000000  MORTGAGE   96000000   \n",
      "3  TRAIN_00003  14400000   36 months   8.000000  MORTGAGE  132000000   \n",
      "4  TRAIN_00004  18000000   60 months   5.946278      RENT   71736000   \n",
      "\n",
      "   부채_대비_소득_비율  총계좌수   대출목적  최근_2년간_연체_횟수   총상환원금     총상환이자  총연체금액  연체계좌수 대출등급  \n",
      "0        18.90    15  부채 통합             0       0       0.0    0.0    0.0    C  \n",
      "1        22.33    21  주택 개선             0  373572  234060.0    0.0    0.0    B  \n",
      "2         8.60    14  부채 통합             0  928644  151944.0    0.0    0.0    A  \n",
      "3        15.09    15  부채 통합             0  325824  153108.0    0.0    0.0    C  \n",
      "4        25.39    19  주요 구매             0  228540  148956.0    0.0    0.0    B  \n"
     ]
    }
   ],
   "source": [
    "from sklearn.model_selection import train_test_split\n",
    "from sklearn.linear_model import LinearRegression\n",
    "from sklearn.metrics import mean_squared_error\n",
    "\n",
    "df_known = df[df['근로기간'] != -1]\n",
    "\n",
    "X_train = df_known[['연간소득']]\n",
    "y_train = df_known['근로기간']\n",
    "\n",
    "regressor = LinearRegression()\n",
    "regressor.fit(X_train, y_train)\n",
    "\n",
    "X_pred = df[df['근로기간'] == -1][['연간소득']]\n",
    "predicted_years = regressor.predict(X_pred)\n",
    "\n",
    "df.loc[df['근로기간'] == -1, '근로기간'] = predicted_years\n",
    "\n",
    "print(df.head())"
   ]
  },
  {
   "cell_type": "code",
   "execution_count": 77,
   "metadata": {},
   "outputs": [],
   "source": [
    "numeric_col = ['대출금액', '연간소득', '부채_대비_소득_비율', '총계좌수', '최근_2년간_연체_횟수', '총상환원금', '총상환이자', '총연체금액', '연체계좌수', '근로기간']\n",
    "category_col = ['대출기간', '주택소유상태', '대출목적']"
   ]
  },
  {
   "cell_type": "code",
   "execution_count": 78,
   "metadata": {},
   "outputs": [],
   "source": [
    "# ranks = ['A', 'B', 'C', 'D', 'E', 'F', 'G']\n",
    "# numer = [[] for i in range(len(numeric_col))]\n",
    "\n",
    "\n",
    "\n",
    "# for i, col in enumerate(numeric_col):\n",
    "#     print(\"-----------------------------------------------\")  \n",
    "#     print(f\"{col}\")\n",
    "#     for rank in ranks:\n",
    "#         temp = df[df['대출등급'] == rank]\n",
    "#         print(f'{rank} : {temp[col].median()}')\n",
    "#         numer[i].append(temp[col].median())\n",
    "    \n",
    "#     print(\"-----------------------------------------------\")"
   ]
  },
  {
   "cell_type": "code",
   "execution_count": 79,
   "metadata": {},
   "outputs": [],
   "source": [
    "# numer"
   ]
  },
  {
   "cell_type": "code",
   "execution_count": 80,
   "metadata": {},
   "outputs": [],
   "source": [
    "# ranks = ['A', 'B', 'C', 'D', 'E', 'F', 'G']\n",
    "\n",
    "# aa = []\n",
    "# bb = []\n",
    "# cc = []\n",
    "# dd = []\n",
    "\n",
    "    \n",
    "# for rank in ranks:\n",
    "#     temp = df[df['대출등급'] == rank]\n",
    "#     print(rank)\n",
    "#     aa.append((temp['대출목적'].value_counts() / temp['대출목적'].value_counts().sum()).sort_values(ascending=False).round(2).iloc[0])\n",
    "#     bb.append((temp['대출목적'].value_counts() / temp['대출목적'].value_counts().sum()).sort_values(ascending=False).round(2).iloc[1])\n",
    "#     cc.append((temp['대출목적'].value_counts() / temp['대출목적'].value_counts().sum()).sort_values(ascending=False).round(2).iloc[2])\n",
    "#     print((temp['대출목적'].value_counts() / temp['대출목적'].value_counts().sum()).sort_values(ascending=False).round(2).index[2])\n",
    "    \n",
    "# print(\"-----------------------------------------------\")\n"
   ]
  },
  {
   "cell_type": "code",
   "execution_count": 81,
   "metadata": {},
   "outputs": [],
   "source": [
    "# for i in range(len(numer)):\n",
    "#     numer[i] = np.array(numer[i]).reshape(7, -1)"
   ]
  },
  {
   "cell_type": "code",
   "execution_count": 82,
   "metadata": {},
   "outputs": [],
   "source": [
    "# result = pd.DataFrame(data = numer[0], index = ranks, columns=[numeric_col[0]])"
   ]
  },
  {
   "cell_type": "code",
   "execution_count": 83,
   "metadata": {},
   "outputs": [],
   "source": [
    "# for i in range(1, len(numer)):\n",
    "#     result[numeric_col[i]] = numer[i]"
   ]
  },
  {
   "cell_type": "code",
   "execution_count": 84,
   "metadata": {},
   "outputs": [],
   "source": [
    "# result"
   ]
  },
  {
   "cell_type": "code",
   "execution_count": 85,
   "metadata": {},
   "outputs": [],
   "source": [
    "# plt.figure(figsize=(20, 10))\n",
    "\n",
    "# for i, col in enumerate(numeric_col):\n",
    "#     plt.subplot(3, 4, i+1)\n",
    "#     sns.barplot(data=result, x=ranks, y=result[col])\n",
    "#     plt.title(f\"대출등급별 {col}(중간값)\")\n",
    "\n",
    "# plt.show()"
   ]
  },
  {
   "cell_type": "code",
   "execution_count": 86,
   "metadata": {},
   "outputs": [],
   "source": [
    "# result = pd.DataFrame(data = aa, index = ranks, columns=['부채통합'])\n",
    "# result['신용카드'] = bb"
   ]
  },
  {
   "cell_type": "code",
   "execution_count": 87,
   "metadata": {},
   "outputs": [],
   "source": [
    "# result.plot.bar(stacked=True)\n",
    "# plt.title('대출등급별 대출사유 비율')"
   ]
  },
  {
   "cell_type": "code",
   "execution_count": 88,
   "metadata": {},
   "outputs": [],
   "source": [
    "# result"
   ]
  },
  {
   "cell_type": "code",
   "execution_count": 89,
   "metadata": {},
   "outputs": [],
   "source": [
    "# sns.barplot(data=result, x=result.index, y=result['부채통합'])\n",
    "# plt.title('대출등급별 대출사유 : 부채통합 비율')\n",
    "# plt.ylabel('비율')\n",
    "# plt.xlabel('대출등급')"
   ]
  },
  {
   "cell_type": "code",
   "execution_count": 90,
   "metadata": {},
   "outputs": [],
   "source": [
    "# sns.barplot(data=result, x=result.index, y=result['신용카드'])\n",
    "# plt.title('대출등급별 대출사유 : 신용카드 비율')\n",
    "# plt.ylabel('비율')\n",
    "# plt.xlabel('대출등급')"
   ]
  },
  {
   "cell_type": "code",
   "execution_count": 91,
   "metadata": {},
   "outputs": [],
   "source": [
    "# result.plot.bar(stacked=True)\n",
    "# plt.xticks(rotation=90)\n",
    "# plt.title('대출등급별 주택소유상태 비율')\n",
    "# plt.ylabel('비율')\n",
    "# plt.xlabel('대출등급')"
   ]
  },
  {
   "cell_type": "markdown",
   "metadata": {},
   "source": [
    "# 스케일링"
   ]
  },
  {
   "cell_type": "code",
   "execution_count": 92,
   "metadata": {},
   "outputs": [
    {
     "name": "stdout",
     "output_type": "stream",
     "text": [
      "(90618, 13) (90618, 1)\n"
     ]
    }
   ],
   "source": [
    "from sklearn.model_selection import train_test_split\n",
    "\n",
    "X = df.drop(['ID', '대출등급'], axis=1)\n",
    "y = df[['대출등급']]\n",
    "\n",
    "print(X.shape, y.shape)"
   ]
  },
  {
   "cell_type": "code",
   "execution_count": 93,
   "metadata": {},
   "outputs": [],
   "source": [
    "def numeric_scaler(X):\n",
    "    \n",
    "    sc_col = ['최근_2년간_연체_횟수', '총연체금액', '연체계좌수']\n",
    "    mm_col = ['대출금액', '연간소득', '부채_대비_소득_비율', '총계좌수', '총상환원금', '총상환이자', '근로기간']\n",
    "    \n",
    "    from sklearn.preprocessing import StandardScaler, MinMaxScaler\n",
    "    \n",
    "    sc = StandardScaler()\n",
    "    mm = MinMaxScaler()\n",
    "    \n",
    "    X[sc_col] = sc.fit_transform(X[sc_col])\n",
    "    X[mm_col] = mm.fit_transform(X[mm_col])\n",
    "    \n",
    "    return X\n",
    "\n",
    "X = numeric_scaler(X)"
   ]
  },
  {
   "cell_type": "markdown",
   "metadata": {},
   "source": [
    "# 인코딩"
   ]
  },
  {
   "cell_type": "code",
   "execution_count": 94,
   "metadata": {},
   "outputs": [],
   "source": [
    "category_col = ['대출기간', '주택소유상태','대출목적']"
   ]
  },
  {
   "cell_type": "code",
   "execution_count": 95,
   "metadata": {},
   "outputs": [],
   "source": [
    "def category_encoder(X:pd.DataFrame):\n",
    "     X_dummies = pd.get_dummies(X[category_col])\n",
    "     \n",
    "     X = pd.concat([X, X_dummies], axis=1)\n",
    "     \n",
    "     return X, X_dummies.columns.to_list()\n",
    "\n",
    "X, dummies_col = category_encoder(X)"
   ]
  },
  {
   "cell_type": "code",
   "execution_count": 96,
   "metadata": {},
   "outputs": [],
   "source": [
    "from sklearn.preprocessing import LabelEncoder\n",
    "\n",
    "le = LabelEncoder()\n",
    "le.fit(y['대출등급'])\n",
    "\n",
    "\n",
    "y['대출등급'] = le.transform(y['대출등급'])"
   ]
  },
  {
   "cell_type": "code",
   "execution_count": 97,
   "metadata": {},
   "outputs": [],
   "source": [
    "# ## 예시\n",
    "\n",
    "# for col in category_col:\n",
    "#     print(col)\n",
    "#     display(df[df['대출등급'] == \"A\"][col].value_counts() / df[df['대출등급'] == \"A\"][col].value_counts().sum())\n",
    "#     print('----------------------------------')\n"
   ]
  },
  {
   "cell_type": "markdown",
   "metadata": {},
   "source": [
    "### 5. 오버샘플링"
   ]
  },
  {
   "cell_type": "code",
   "execution_count": 98,
   "metadata": {},
   "outputs": [],
   "source": [
    "X = df.drop(['ID', '대출등급'], axis=1)\n",
    "y = df[['대출등급']]"
   ]
  },
  {
   "cell_type": "code",
   "execution_count": 99,
   "metadata": {},
   "outputs": [
    {
     "data": {
      "text/plain": [
       "대출등급\n",
       "B       27674\n",
       "C       26357\n",
       "A       16132\n",
       "D       12287\n",
       "E        6389\n",
       "F        1493\n",
       "G         286\n",
       "Name: count, dtype: int64"
      ]
     },
     "execution_count": 99,
     "metadata": {},
     "output_type": "execute_result"
    }
   ],
   "source": [
    "y.value_counts()"
   ]
  },
  {
   "cell_type": "code",
   "execution_count": 100,
   "metadata": {},
   "outputs": [],
   "source": [
    "X, dummies_col = category_encoder(X)\n",
    "X = X.drop(columns=category_col)"
   ]
  },
  {
   "cell_type": "code",
   "execution_count": 101,
   "metadata": {},
   "outputs": [],
   "source": [
    "from sklearn.preprocessing import LabelEncoder\n",
    "\n",
    "le = LabelEncoder()\n",
    "le.fit(y['대출등급'])\n",
    "\n",
    "\n",
    "y['대출등급'] = le.transform(y['대출등급'])"
   ]
  },
  {
   "cell_type": "code",
   "execution_count": 102,
   "metadata": {},
   "outputs": [],
   "source": [
    "from imblearn.over_sampling import SMOTE\n",
    "sm = SMOTE(random_state=42)\n",
    "\n",
    "X, y = sm.fit_resample(X, y)"
   ]
  },
  {
   "cell_type": "code",
   "execution_count": 103,
   "metadata": {},
   "outputs": [
    {
     "data": {
      "text/plain": [
       "대출등급\n",
       "0       27674\n",
       "1       27674\n",
       "2       27674\n",
       "3       27674\n",
       "4       27674\n",
       "5       27674\n",
       "6       27674\n",
       "Name: count, dtype: int64"
      ]
     },
     "execution_count": 103,
     "metadata": {},
     "output_type": "execute_result"
    }
   ],
   "source": [
    "y.value_counts()"
   ]
  },
  {
   "cell_type": "markdown",
   "metadata": {},
   "source": [
    "# 파생변수"
   ]
  },
  {
   "cell_type": "code",
   "execution_count": 104,
   "metadata": {},
   "outputs": [],
   "source": [
    "X['dv_category'] = ((2 * X['대출기간_ 36 months']) + X['주택소유상태_MORTGAGE'] + X['대출목적_부채 통합']) / 4  # 대출 등급별 category_col 분포 특성을 반영\n",
    "X['dv_ratio'] = (X['총상환원금'] / X['대출금액']) * 100                                                        # 대출금액 대비 총상환원금(0인 값 처리를 위해 +1)\n",
    "X['dv_short_ability'] = (X['연간소득'] / 12) - (X['대출금액'] / 36)                                           # 단기상환능력                                   \n",
    "X['dv_left_debt'] = X['대출금액'] - X['총상환원금'] - X['총상환이자']                                          # 잔여대출금                                                 \n",
    "X['dv_rent_i'] = (X['총상환이자'] / X['대출금액']) * 100                                                       # 대출 금액 대비 총상환금 비율"
   ]
  },
  {
   "cell_type": "code",
   "execution_count": 105,
   "metadata": {},
   "outputs": [],
   "source": [
    "dummies_col = dummies_col + ['dv_category']\n",
    "numeric_col = numeric_col + ['dv_ratio', 'dv_short_ability', 'dv_left_debt', 'dv_rent_i']"
   ]
  },
  {
   "cell_type": "code",
   "execution_count": 117,
   "metadata": {},
   "outputs": [
    {
     "name": "stdout",
     "output_type": "stream",
     "text": [
      "0 0\n",
      "0 0\n",
      "0 0\n",
      "0 0\n"
     ]
    }
   ],
   "source": [
    "for col in ['dv_ratio', 'dv_short_ability', 'dv_left_debt', 'dv_rent_i']:\n",
    "    print(np.isnan(X[col]).sum(), np.isinf(X[col]).sum())"
   ]
  },
  {
   "cell_type": "code",
   "execution_count": 107,
   "metadata": {},
   "outputs": [],
   "source": [
    "# result = pd.concat([X, y], axis=1)\n",
    "# result['대출등급'] = le.inverse_transform(result['대출등급'])\n",
    "# result"
   ]
  },
  {
   "cell_type": "code",
   "execution_count": 108,
   "metadata": {},
   "outputs": [],
   "source": [
    "# graph = result[['대출등급', 'dv_ratio']].groupby('대출등급').median().sort_index()\n",
    "# graph"
   ]
  },
  {
   "cell_type": "code",
   "execution_count": 109,
   "metadata": {},
   "outputs": [],
   "source": [
    "# sns.barplot(data=graph, x=graph.index, y=graph['dv_ratio'])\n",
    "# plt.title('대출등급별 부채상환비율', size=15)\n",
    "# plt.ylabel('상환비율(백분율)')"
   ]
  },
  {
   "cell_type": "code",
   "execution_count": 110,
   "metadata": {},
   "outputs": [],
   "source": [
    "# graph = result[['대출등급', 'dv_short_ability']].groupby('대출등급').mean().sort_index()\n",
    "# graph"
   ]
  },
  {
   "cell_type": "code",
   "execution_count": 111,
   "metadata": {},
   "outputs": [],
   "source": [
    "# sns.barplot(data=graph, x=graph.index, y=graph['dv_short_ability'])\n",
    "# plt.title('대출등급별 단기상환능력', size=15)\n",
    "# plt.ylabel('단기상환능력')"
   ]
  },
  {
   "cell_type": "code",
   "execution_count": 112,
   "metadata": {},
   "outputs": [],
   "source": [
    "# graph = result[['대출등급', 'dv_rent_i']].groupby('대출등급').count().sort_index()\n",
    "# graph"
   ]
  },
  {
   "cell_type": "code",
   "execution_count": 113,
   "metadata": {},
   "outputs": [],
   "source": [
    "# sns.barplot(data=graph, x=graph.index, y=graph['dv_rent_i'])\n",
    "# plt.title('오버샘플링 후', size=15)\n",
    "# plt.ylabel('counts')\n",
    "# plt.xlabel('대출등급')"
   ]
  },
  {
   "cell_type": "code",
   "execution_count": 118,
   "metadata": {},
   "outputs": [],
   "source": [
    "from sklearn.model_selection import train_test_split\n",
    "\n",
    "X_train, X_val, y_train, y_val = train_test_split(X, y, test_size=0.2, stratify=y, random_state=42, shuffle=True)"
   ]
  },
  {
   "cell_type": "code",
   "execution_count": 119,
   "metadata": {},
   "outputs": [
    {
     "name": "stdout",
     "output_type": "stream",
     "text": [
      "(154974, 32) (38744, 32) (154974, 1) (38744, 1)\n"
     ]
    }
   ],
   "source": [
    "print(X_train.shape, X_val.shape, y_train.shape, y_val.shape)"
   ]
  },
  {
   "cell_type": "code",
   "execution_count": 26,
   "metadata": {},
   "outputs": [
    {
     "data": {
      "text/plain": [
       "['대출금액',\n",
       " '연간소득',\n",
       " '부채_대비_소득_비율',\n",
       " '총계좌수',\n",
       " '최근_2년간_연체_횟수',\n",
       " '총상환원금',\n",
       " '총상환이자',\n",
       " '총연체금액',\n",
       " '연체계좌수',\n",
       " '근로기간',\n",
       " 'dv_ratio',\n",
       " 'dv_short_ability',\n",
       " 'dv_left_debt',\n",
       " 'dv_rent_i']"
      ]
     },
     "execution_count": 26,
     "metadata": {},
     "output_type": "execute_result"
    }
   ],
   "source": [
    "numeric_col"
   ]
  },
  {
   "cell_type": "code",
   "execution_count": 25,
   "metadata": {},
   "outputs": [
    {
     "data": {
      "text/plain": [
       "['대출기간_ 36 months',\n",
       " '대출기간_ 60 months',\n",
       " '주택소유상태_MORTGAGE',\n",
       " '주택소유상태_OWN',\n",
       " '주택소유상태_RENT',\n",
       " '대출목적_기타',\n",
       " '대출목적_부채 통합',\n",
       " '대출목적_소규모 사업',\n",
       " '대출목적_신용 카드',\n",
       " '대출목적_의료',\n",
       " '대출목적_이사',\n",
       " '대출목적_자동차',\n",
       " '대출목적_재생 에너지',\n",
       " '대출목적_주요 구매',\n",
       " '대출목적_주택',\n",
       " '대출목적_주택 개선',\n",
       " '대출목적_휴가',\n",
       " 'dv_category']"
      ]
     },
     "execution_count": 25,
     "metadata": {},
     "output_type": "execute_result"
    }
   ],
   "source": [
    "dummies_col"
   ]
  },
  {
   "cell_type": "markdown",
   "metadata": {},
   "source": [
    "# 모델링"
   ]
  },
  {
   "cell_type": "code",
   "execution_count": 120,
   "metadata": {},
   "outputs": [],
   "source": [
    "def get_score(train:pd.DataFrame,  test:pd.DataFrame, x_var_list:list):\n",
    "    \n",
    "    X_train = train \n",
    "    X_test = test\n",
    "\n",
    "    X_train = X_train[x_var_list]\n",
    "    X_test = X_test[x_var_list]\n",
    "    \n",
    "    from sklearn.linear_model import LogisticRegression\n",
    "    from sklearn.tree import DecisionTreeClassifier\n",
    "    from sklearn.ensemble import RandomForestClassifier, GradientBoostingClassifier\n",
    "    from xgboost import XGBClassifier\n",
    "    from lightgbm import LGBMClassifier\n",
    "    from sklearn.metrics import f1_score, accuracy_score\n",
    "    \n",
    "    logit = LogisticRegression()\n",
    "    decision = DecisionTreeClassifier(random_state=42)\n",
    "    rfc = RandomForestClassifier(random_state=42)\n",
    "    gbc = GradientBoostingClassifier(random_state=42)\n",
    "    xgb = XGBClassifier(random_state=42)\n",
    "    light = LGBMClassifier(random_state=42)\n",
    "    \n",
    "    logit.fit(X_train, y_train)\n",
    "    decision.fit(X_train, y_train)\n",
    "    rfc.fit(X_train, y_train)\n",
    "    gbc.fit(X_train, y_train)\n",
    "    xgb.fit(X_train, y_train)\n",
    "    light.fit(X_train, y_train)\n",
    "    \n",
    "    y_pred_train = logit.predict(X_train)\n",
    "    y_pred_test = logit.predict(X_test)\n",
    "    \n",
    "    result_logit = pd.DataFrame({'acc' : [accuracy_score(y_train, y_pred_train), accuracy_score(y_val, y_pred_test)],\n",
    "                            'f1_score' : [f1_score(y_train, y_pred_train, average='macro'), f1_score(y_val, y_pred_test, average='macro')]},\n",
    "                            index = ['train','test'])\n",
    "    \n",
    "    y_pred_train = decision.predict(X_train)\n",
    "    y_pred_test = decision.predict(X_test)\n",
    "    \n",
    "    result_decision = pd.DataFrame({'acc' : [accuracy_score(y_train, y_pred_train), accuracy_score(y_val, y_pred_test)],\n",
    "                            'f1_score' : [f1_score(y_train, y_pred_train, average='macro'), f1_score(y_val, y_pred_test, average='macro')]},\n",
    "                            index = ['train','test'])\n",
    "    \n",
    "    y_pred_train = rfc.predict(X_train)\n",
    "    y_pred_test = rfc.predict(X_test)\n",
    "    \n",
    "    result_rfc = pd.DataFrame({'acc' : [accuracy_score(y_train, y_pred_train), accuracy_score(y_val, y_pred_test)],\n",
    "                            'f1_score' : [f1_score(y_train, y_pred_train, average='macro'), f1_score(y_val, y_pred_test, average='macro')]},\n",
    "                            index = ['train','test'])\n",
    "    \n",
    "    y_pred_train = gbc.predict(X_train)\n",
    "    y_pred_test = gbc.predict(X_test)\n",
    "    \n",
    "    result_gbc = pd.DataFrame({'acc' : [accuracy_score(y_train, y_pred_train), accuracy_score(y_val, y_pred_test)],\n",
    "                            'f1_score' : [f1_score(y_train, y_pred_train, average='macro'), f1_score(y_val, y_pred_test, average='macro')]},\n",
    "                            index = ['train','test'])\n",
    "    \n",
    "    y_pred_train = xgb.predict(X_train)\n",
    "    y_pred_test = xgb.predict(X_test)\n",
    "    \n",
    "    result_xgb = pd.DataFrame({'acc' : [accuracy_score(y_train, y_pred_train), accuracy_score(y_val, y_pred_test)],\n",
    "                            'f1_score' : [f1_score(y_train, y_pred_train, average='macro'), f1_score(y_val, y_pred_test, average='macro')]},\n",
    "                            index = ['train','test'])\n",
    "    \n",
    "    y_pred_train = light.predict(X_train)\n",
    "    y_pred_test = light.predict(X_test)\n",
    "    \n",
    "    result_light = pd.DataFrame({'acc' : [accuracy_score(y_train, y_pred_train), accuracy_score(y_val, y_pred_test)],\n",
    "                            'f1_score' : [f1_score(y_train, y_pred_train, average='macro'), f1_score(y_val, y_pred_test, average='macro')]},\n",
    "                            index = ['train','test'])\n",
    "    \n",
    "    print('로지스틱')\n",
    "    display(result_logit.round(2))\n",
    "    print()\n",
    "    print('의사결정나무')\n",
    "    display(result_decision.round(2))\n",
    "    print()\n",
    "    print('랜덤포레스트')\n",
    "    display(result_rfc.round(2))\n",
    "    print()\n",
    "    print('그라디언트 부스팅')\n",
    "    display(result_gbc.round(2))\n",
    "    print()\n",
    "    print('XG 부스팅')\n",
    "    display(result_xgb.round(2))\n",
    "    print()\n",
    "    print('Light GBM')\n",
    "    display(result_light.round(2))\n",
    "    "
   ]
  },
  {
   "cell_type": "code",
   "execution_count": 121,
   "metadata": {},
   "outputs": [
    {
     "data": {
      "text/html": [
       "<div>\n",
       "<style scoped>\n",
       "    .dataframe tbody tr th:only-of-type {\n",
       "        vertical-align: middle;\n",
       "    }\n",
       "\n",
       "    .dataframe tbody tr th {\n",
       "        vertical-align: top;\n",
       "    }\n",
       "\n",
       "    .dataframe thead th {\n",
       "        text-align: right;\n",
       "    }\n",
       "</style>\n",
       "<table border=\"1\" class=\"dataframe\">\n",
       "  <thead>\n",
       "    <tr style=\"text-align: right;\">\n",
       "      <th></th>\n",
       "      <th>acc</th>\n",
       "      <th>f1_score</th>\n",
       "    </tr>\n",
       "  </thead>\n",
       "  <tbody>\n",
       "    <tr>\n",
       "      <th>train</th>\n",
       "      <td>0.97</td>\n",
       "      <td>0.97</td>\n",
       "    </tr>\n",
       "    <tr>\n",
       "      <th>test</th>\n",
       "      <td>0.94</td>\n",
       "      <td>0.94</td>\n",
       "    </tr>\n",
       "  </tbody>\n",
       "</table>\n",
       "</div>"
      ],
      "text/plain": [
       "        acc  f1_score\n",
       "train  0.97      0.97\n",
       "test   0.94      0.94"
      ]
     },
     "metadata": {},
     "output_type": "display_data"
    }
   ],
   "source": [
    "from xgboost import XGBClassifier\n",
    "from sklearn.model_selection import GridSearchCV\n",
    "from sklearn.metrics import accuracy_score, f1_score\n",
    "\n",
    "\n",
    "\n",
    "xgb = XGBClassifier(random_state=42)\n",
    "xgb.fit(X_train[dummies_col + numeric_col], y_train)\n",
    "    \n",
    "y_pred_train = xgb.predict(X_train[dummies_col + numeric_col])\n",
    "y_pred_val = xgb.predict(X_val[dummies_col + numeric_col])\n",
    "    \n",
    "result_xgb = pd.DataFrame(data={'acc' : [accuracy_score(y_train, y_pred_train), accuracy_score(y_val, y_pred_val)],\n",
    "                                'f1_score' : [f1_score(y_train, y_pred_train, average='macro'), f1_score(y_val, y_pred_val, average='macro')]},\n",
    "                          index=['train','test'])\n",
    "    \n",
    "display(result_xgb.round(2))"
   ]
  },
  {
   "cell_type": "code",
   "execution_count": 122,
   "metadata": {},
   "outputs": [
    {
     "data": {
      "text/plain": [
       "array([[5356,  143,   25,   10,    0,    0,    0],\n",
       "       [ 126, 5281,  117,    6,    4,    1,    0],\n",
       "       [  44,  159, 5198,  104,   29,    1,    0],\n",
       "       [  26,   50,  127, 4902,  376,   42,   12],\n",
       "       [   4,   13,   52,  383, 4887,  178,   18],\n",
       "       [   0,    4,   13,   35,  108, 5303,   72],\n",
       "       [   0,    0,    0,    0,    6,   20, 5509]], dtype=int64)"
      ]
     },
     "execution_count": 122,
     "metadata": {},
     "output_type": "execute_result"
    }
   ],
   "source": [
    "from sklearn.metrics import confusion_matrix\n",
    "confusion = confusion_matrix(y_val, y_pred_val)\n",
    "confusion"
   ]
  },
  {
   "cell_type": "code",
   "execution_count": 124,
   "metadata": {},
   "outputs": [
    {
     "data": {
      "image/png": "[encoded data removed]",
      "text/plain": [
       "<Figure size 640x480 with 2 Axes>"
      ]
     },
     "metadata": {},
     "output_type": "display_data"
    }
   ],
   "source": [
    "labels = ['A', 'B', 'C', 'D', 'E', 'F', 'G']\n",
    "\n",
    "sns.heatmap(confusion, cmap='Blues',annot=True ,xticklabels=labels, yticklabels=labels, fmt='g')\n",
    "plt.xlabel('Predicted')\n",
    "plt.ylabel('True')\n",
    "plt.show()"
   ]
  },
  {
   "cell_type": "code",
   "execution_count": 127,
   "metadata": {},
   "outputs": [
    {
     "name": "stdout",
     "output_type": "stream",
     "text": [
      "Accuracy: 0.943191203799298\n",
      "Accuracy: 0.942442700805286\n",
      "Accuracy: 0.9394744992773074\n",
      "Accuracy: 0.9387502258472499\n",
      "Accuracy: 0.9379242701907441\n",
      "Average Accuracy : 0.9403565799839771\n"
     ]
    }
   ],
   "source": [
    "from sklearn.model_selection import KFold\n",
    "kf = KFold(n_splits=5, shuffle=True, random_state=42)\n",
    "scores = []\n",
    "\n",
    "for train_index, test_index in kf.split(X):\n",
    "    X_train, X_test = X.iloc[train_index], X.iloc[test_index]\n",
    "    y_train, y_test = y.iloc[train_index], y.iloc[test_index]\n",
    "    \n",
    "    xgb = XGBClassifier(random_state=42)\n",
    "    xgb.fit(X_train, y_train)\n",
    "    y_pred = xgb.predict(X_test)\n",
    "    accuracy = accuracy_score(y_test, y_pred)\n",
    "    \n",
    "    print(f'Accuracy: {accuracy}')\n",
    "    scores.append(accuracy)\n",
    "\n",
    "print(f'Average Accuracy : {np.mean(scores)}')\n",
    "\n"
   ]
  },
  {
   "cell_type": "code",
   "execution_count": 38,
   "metadata": {},
   "outputs": [
    {
     "name": "stdout",
     "output_type": "stream",
     "text": [
      "Best parameters found:  {'learning_rate': 0.3, 'max_depth': 7, 'n_estimators': 300}\n",
      "Best accuracy found:  0.9457009195031457\n"
     ]
    }
   ],
   "source": [
    "# from sklearn.model_selection import GridSearchCV\n",
    "# param_grid = {\n",
    "#     'n_estimators': [100, 200, 300],\n",
    "#     'max_depth': [3, 5, 7],\n",
    "#     'learning_rate': [0.01, 0.1, 0.3]\n",
    "# }\n",
    "\n",
    "# xgb = XGBClassifier(random_state=42)\n",
    "\n",
    "# grid_search = GridSearchCV(estimator=xgb, param_grid=param_grid, cv=5, scoring='accuracy')\n",
    "\n",
    "# grid_search.fit(X_train, y_train)\n",
    "\n",
    "# print(\"Best parameters found: \", grid_search.best_params_)\n",
    "# print(\"Best accuracy found: \", grid_search.best_score_)"
   ]
  },
  {
   "cell_type": "code",
   "execution_count": 130,
   "metadata": {},
   "outputs": [
    {
     "data": {
      "text/html": [
       "<div>\n",
       "<style scoped>\n",
       "    .dataframe tbody tr th:only-of-type {\n",
       "        vertical-align: middle;\n",
       "    }\n",
       "\n",
       "    .dataframe tbody tr th {\n",
       "        vertical-align: top;\n",
       "    }\n",
       "\n",
       "    .dataframe thead th {\n",
       "        text-align: right;\n",
       "    }\n",
       "</style>\n",
       "<table border=\"1\" class=\"dataframe\">\n",
       "  <thead>\n",
       "    <tr style=\"text-align: right;\">\n",
       "      <th></th>\n",
       "      <th>acc</th>\n",
       "      <th>f1_score</th>\n",
       "    </tr>\n",
       "  </thead>\n",
       "  <tbody>\n",
       "    <tr>\n",
       "      <th>train</th>\n",
       "      <td>1.00</td>\n",
       "      <td>1.00</td>\n",
       "    </tr>\n",
       "    <tr>\n",
       "      <th>test</th>\n",
       "      <td>0.96</td>\n",
       "      <td>0.96</td>\n",
       "    </tr>\n",
       "  </tbody>\n",
       "</table>\n",
       "</div>"
      ],
      "text/plain": [
       "        acc  f1_score\n",
       "train  1.00      1.00\n",
       "test   0.96      0.96"
      ]
     },
     "metadata": {},
     "output_type": "display_data"
    },
    {
     "name": "stdout",
     "output_type": "stream",
     "text": [
      "Final Accuracy: 0.955088661177503\n",
      "Final F1 score: 0.9551206672976525\n"
     ]
    }
   ],
   "source": [
    "# best_n_estimators = grid_search.best_params_['n_estimators']\n",
    "# best_max_depth = grid_search.best_params_['max_depth']\n",
    "# best_learning_rate = grid_search.best_params_['learning_rate']\n",
    "\n",
    "from sklearn.metrics import f1_score, accuracy_score\n",
    "\n",
    "best_xgb_model = XGBClassifier(n_estimators=300, max_depth=7, learning_rate=0.3)\n",
    "\n",
    "best_xgb_model.fit(X_train, y_train)\n",
    "\n",
    "y_train_pred = best_xgb_model.predict(X_train)\n",
    "y_test_pred = best_xgb_model.predict(X_test)\n",
    "\n",
    "\n",
    "accuracy = accuracy_score(y_test, y_test_pred)\n",
    "f1 = f1_score(y_test, y_test_pred, average='macro')\n",
    "\n",
    "result_xgb = pd.DataFrame(data={'acc' : [accuracy_score(y_train, y_train_pred), accuracy_score(y_test, y_test_pred)],\n",
    "                                'f1_score' : [f1_score(y_train, y_train_pred, average='macro'), f1_score(y_test, y_test_pred, average='macro')]},\n",
    "                          index=['train','test'])\n",
    "\n",
    "\n",
    "display(result_xgb.round(2))\n",
    "\n",
    "print(\"Final Accuracy:\", accuracy)\n",
    "print(\"Final F1 score:\", f1)\n"
   ]
  },
  {
   "cell_type": "code",
   "execution_count": 131,
   "metadata": {},
   "outputs": [
    {
     "data": {
      "image/png": "[encoded data removed]",
      "text/plain": [
       "<Figure size 800x600 with 2 Axes>"
      ]
     },
     "metadata": {},
     "output_type": "display_data"
    }
   ],
   "source": [
    "from sklearn.metrics import confusion_matrix\n",
    "import seaborn as sns\n",
    "\n",
    "labels = ['A', 'B', 'C', 'D', 'E', 'F', 'G']\n",
    "\n",
    "conf_matrix = confusion_matrix(y_test, y_pred)\n",
    "\n",
    "plt.figure(figsize=(8, 6))\n",
    "sns.heatmap(conf_matrix, annot=True, cmap='Blues', fmt='g')\n",
    "plt.xlabel('Predicted Label')\n",
    "plt.ylabel('True Label')\n",
    "plt.title('Confusion Matrix')\n",
    "plt.show()"
   ]
  },
  {
   "cell_type": "code",
   "execution_count": 133,
   "metadata": {},
   "outputs": [
    {
     "data": {
      "image/png": "[encoded data removed]",
      "text/plain": [
       "<Figure size 1000x600 with 1 Axes>"
      ]
     },
     "metadata": {},
     "output_type": "display_data"
    }
   ],
   "source": [
    "best_xgb_model.fit(X_train, y_train)\n",
    "\n",
    "importances = best_xgb_model.feature_importances_\n",
    "\n",
    "feature_names = X_train.columns\n",
    "\n",
    "importance_df = pd.DataFrame({'Feature': feature_names, 'Importance': importances})\n",
    "\n",
    "importance_df = importance_df.sort_values(by='Importance', ascending=False)\n",
    "\n",
    "plt.figure(figsize=(10, 6))\n",
    "sns.barplot(x='Importance', y='Feature', data=importance_df.head(10), palette='viridis')\n",
    "plt.xlabel('Importance')\n",
    "plt.ylabel('Feature')\n",
    "plt.title(f'Top Feature Importance')\n",
    "plt.show()"
   ]
  },
  {
   "cell_type": "code",
   "execution_count": null,
   "metadata": {},
   "outputs": [],
   "source": []
  }
 ],
 "metadata": {
  "kernelspec": {
   "display_name": "Python 3",
   "language": "python",
   "name": "python3"
  },
  "language_info": {
   "codemirror_mode": {
    "name": "ipython",
    "version": 3
   },
   "file_extension": ".py",
   "mimetype": "text/x-python",
   "name": "python",
   "nbconvert_exporter": "python",
   "pygments_lexer": "ipython3",
   "version": "3.11.8"
  }
 },
 "nbformat": 4,
 "nbformat_minor": 2
}
